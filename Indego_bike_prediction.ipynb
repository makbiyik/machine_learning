{
 "cells": [
  {
   "cell_type": "markdown",
   "metadata": {},
   "source": [
    "The City of Philadelphia and its partners at Bicycle Transit Systems\n",
    "---\n"
   ]
  },
  {
   "cell_type": "markdown",
   "metadata": {},
   "source": [
    " Prediction of length of trip (duration)\n",
    "--"
   ]
  },
  {
   "cell_type": "code",
   "execution_count": 3,
   "metadata": {},
   "outputs": [],
   "source": [
    "import pandas as pd\n",
    "import numpy as np\n",
    "np.random.seed(2017)\n",
    "import glob\n",
    "import pickle\n",
    "import datetime\n",
    "import matplotlib.pyplot as plt\n",
    "from collections import Counter\n",
    "from sklearn.cluster import KMeans\n",
    "from sklearn import metrics\n",
    "from sklearn.decomposition import PCA\n",
    "from sklearn.linear_model import Lasso\n",
    "from sklearn.model_selection import KFold, GroupKFold\n",
    "from sklearn.preprocessing import StandardScaler\n",
    "from sklearn.dummy import DummyRegressor\n",
    "from sklearn.tree import DecisionTreeRegressor\n",
    "from sklearn.ensemble import RandomForestRegressor\n",
    "\n"
   ]
  },
  {
   "cell_type": "markdown",
   "metadata": {},
   "source": [
    "Curate and clean-up dataset, i.e., as a single data frame, entire data set and all quarters.\n",
    "--"
   ]
  },
  {
   "cell_type": "code",
   "execution_count": 3,
   "metadata": {},
   "outputs": [
    {
     "name": "stderr",
     "output_type": "stream",
     "text": [
      "/Users/melike/anaconda2/lib/python2.7/site-packages/ipykernel_launcher.py:21: FutureWarning: Sorting because non-concatenation axis is not aligned. A future version\n",
      "of pandas will change to not sort by default.\n",
      "\n",
      "To accept the future behavior, pass 'sort=False'.\n",
      "\n",
      "To retain the current behavior and silence the warning, pass 'sort=True'.\n",
      "\n"
     ]
    }
   ],
   "source": [
    "# Load raw data\n",
    "path =r'/Users/melike/machinelearning/Indeco_data'\n",
    "allFiles = glob.glob(path + \"/*.csv\")\n",
    "list_ = []\n",
    "\n",
    "for file_ in allFiles:\n",
    "    df = pd.read_csv(file_,index_col=None, header=0)\n",
    "    \n",
    "    #handle missing column\n",
    "    df = df.replace('[]', np.nan)\n",
    "    df = df.replace('...', np.nan)\n",
    "    #df.replace('',-99999, inplace=True)\n",
    "    modifiedFlights=df.fillna(\"...\")\n",
    "    modifiedFlights = df.dropna()\n",
    "    modifiedFlights.isnull().sum()\n",
    "    modifiedFlights.to_csv('modifiedFlights.csv',index=False)\n",
    "    df=df.dropna()\n",
    "    list_.append(df)\n",
    "    #df.drop(to_drop, inplace=True, axis=1)\n",
    "    \n",
    "frame = pd.concat(list_)"
   ]
  },
  {
   "cell_type": "code",
   "execution_count": 4,
   "metadata": {},
   "outputs": [
    {
     "data": {
      "text/html": [
       "<div>\n",
       "<style scoped>\n",
       "    .dataframe tbody tr th:only-of-type {\n",
       "        vertical-align: middle;\n",
       "    }\n",
       "\n",
       "    .dataframe tbody tr th {\n",
       "        vertical-align: top;\n",
       "    }\n",
       "\n",
       "    .dataframe thead th {\n",
       "        text-align: right;\n",
       "    }\n",
       "</style>\n",
       "<table border=\"1\" class=\"dataframe\">\n",
       "  <thead>\n",
       "    <tr style=\"text-align: right;\">\n",
       "      <th></th>\n",
       "      <th>duration</th>\n",
       "      <th>start_date</th>\n",
       "      <th>start_year</th>\n",
       "      <th>start_month</th>\n",
       "      <th>start_hour</th>\n",
       "      <th>start_sn</th>\n",
       "      <th>weekday</th>\n",
       "      <th>start_city</th>\n",
       "      <th>end_city</th>\n",
       "      <th>subscription_type</th>\n",
       "    </tr>\n",
       "  </thead>\n",
       "  <tbody>\n",
       "    <tr>\n",
       "      <th>0</th>\n",
       "      <td>0.300000</td>\n",
       "      <td>2018-01-01</td>\n",
       "      <td>2018</td>\n",
       "      <td>1</td>\n",
       "      <td>0</td>\n",
       "      <td>0</td>\n",
       "      <td>Monday</td>\n",
       "      <td>Race Street Pier</td>\n",
       "      <td>9th &amp; Spring Garden</td>\n",
       "      <td>Indego30</td>\n",
       "    </tr>\n",
       "    <tr>\n",
       "      <th>1</th>\n",
       "      <td>9.533333</td>\n",
       "      <td>2018-01-01</td>\n",
       "      <td>2018</td>\n",
       "      <td>1</td>\n",
       "      <td>0</td>\n",
       "      <td>0</td>\n",
       "      <td>Monday</td>\n",
       "      <td>Rittenhouse Square</td>\n",
       "      <td>19th &amp; Lombard</td>\n",
       "      <td>Indego365</td>\n",
       "    </tr>\n",
       "    <tr>\n",
       "      <th>2</th>\n",
       "      <td>0.366667</td>\n",
       "      <td>2018-01-01</td>\n",
       "      <td>2018</td>\n",
       "      <td>1</td>\n",
       "      <td>0</td>\n",
       "      <td>0</td>\n",
       "      <td>Monday</td>\n",
       "      <td>2nd &amp; South</td>\n",
       "      <td>Rittenhouse Square</td>\n",
       "      <td>Indego30</td>\n",
       "    </tr>\n",
       "    <tr>\n",
       "      <th>3</th>\n",
       "      <td>0.350000</td>\n",
       "      <td>2018-01-01</td>\n",
       "      <td>2018</td>\n",
       "      <td>1</td>\n",
       "      <td>1</td>\n",
       "      <td>0</td>\n",
       "      <td>Monday</td>\n",
       "      <td>13th &amp; Locust</td>\n",
       "      <td>Pennsylvania Convention Center</td>\n",
       "      <td>Indego30</td>\n",
       "    </tr>\n",
       "    <tr>\n",
       "      <th>4</th>\n",
       "      <td>0.066667</td>\n",
       "      <td>2018-01-01</td>\n",
       "      <td>2018</td>\n",
       "      <td>1</td>\n",
       "      <td>1</td>\n",
       "      <td>0</td>\n",
       "      <td>Monday</td>\n",
       "      <td>19th &amp; Girard, PTTI</td>\n",
       "      <td>20th &amp; Fairmount</td>\n",
       "      <td>Indego30</td>\n",
       "    </tr>\n",
       "  </tbody>\n",
       "</table>\n",
       "</div>"
      ],
      "text/plain": [
       "   duration  start_date  start_year  start_month  start_hour  start_sn  \\\n",
       "0  0.300000  2018-01-01        2018            1           0         0   \n",
       "1  9.533333  2018-01-01        2018            1           0         0   \n",
       "2  0.366667  2018-01-01        2018            1           0         0   \n",
       "3  0.350000  2018-01-01        2018            1           1         0   \n",
       "4  0.066667  2018-01-01        2018            1           1         0   \n",
       "\n",
       "  weekday           start_city                        end_city  \\\n",
       "0  Monday     Race Street Pier             9th & Spring Garden   \n",
       "1  Monday   Rittenhouse Square                  19th & Lombard   \n",
       "2  Monday          2nd & South              Rittenhouse Square   \n",
       "3  Monday        13th & Locust  Pennsylvania Convention Center   \n",
       "4  Monday  19th & Girard, PTTI                20th & Fairmount   \n",
       "\n",
       "  subscription_type  \n",
       "0          Indego30  \n",
       "1         Indego365  \n",
       "2          Indego30  \n",
       "3          Indego30  \n",
       "4          Indego30  "
      ]
     },
     "execution_count": 4,
     "metadata": {},
     "output_type": "execute_result"
    }
   ],
   "source": [
    "df.head()"
   ]
  },
  {
   "cell_type": "markdown",
   "metadata": {},
   "source": [
    "Load Data\n",
    "--\n",
    "single file\n"
   ]
  },
  {
   "cell_type": "code",
   "execution_count": 8,
   "metadata": {},
   "outputs": [],
   "source": [
    "df = pd.read_csv('indego-trips-2018-q2.csv', parse_dates=['start_time'])"
   ]
  },
  {
   "cell_type": "code",
   "execution_count": 10,
   "metadata": {
    "scrolled": true
   },
   "outputs": [
    {
     "data": {
      "text/html": [
       "<div>\n",
       "<style scoped>\n",
       "    .dataframe tbody tr th:only-of-type {\n",
       "        vertical-align: middle;\n",
       "    }\n",
       "\n",
       "    .dataframe tbody tr th {\n",
       "        vertical-align: top;\n",
       "    }\n",
       "\n",
       "    .dataframe thead th {\n",
       "        text-align: right;\n",
       "    }\n",
       "</style>\n",
       "<table border=\"1\" class=\"dataframe\">\n",
       "  <thead>\n",
       "    <tr style=\"text-align: right;\">\n",
       "      <th></th>\n",
       "      <th>trip_id</th>\n",
       "      <th>duration</th>\n",
       "      <th>start_time</th>\n",
       "      <th>end_time</th>\n",
       "      <th>start_station</th>\n",
       "      <th>start_lat</th>\n",
       "      <th>start_lon</th>\n",
       "      <th>end_station</th>\n",
       "      <th>end_lat</th>\n",
       "      <th>end_lon</th>\n",
       "      <th>bike_id</th>\n",
       "      <th>plan_duration</th>\n",
       "      <th>trip_route_category</th>\n",
       "      <th>passholder_type</th>\n",
       "    </tr>\n",
       "  </thead>\n",
       "  <tbody>\n",
       "    <tr>\n",
       "      <th>0</th>\n",
       "      <td>241475855</td>\n",
       "      <td>3</td>\n",
       "      <td>2018-04-01 00:06:00</td>\n",
       "      <td>2018-04-01 00:09:00</td>\n",
       "      <td>3114</td>\n",
       "      <td>39.937752</td>\n",
       "      <td>-75.180122</td>\n",
       "      <td>3053</td>\n",
       "      <td>39.932308</td>\n",
       "      <td>-75.181541</td>\n",
       "      <td>2497</td>\n",
       "      <td>30</td>\n",
       "      <td>One Way</td>\n",
       "      <td>Indego30</td>\n",
       "    </tr>\n",
       "    <tr>\n",
       "      <th>1</th>\n",
       "      <td>241475854</td>\n",
       "      <td>3</td>\n",
       "      <td>2018-04-01 00:09:00</td>\n",
       "      <td>2018-04-01 00:12:00</td>\n",
       "      <td>3156</td>\n",
       "      <td>39.953812</td>\n",
       "      <td>-75.174072</td>\n",
       "      <td>3165</td>\n",
       "      <td>39.958191</td>\n",
       "      <td>-75.178200</td>\n",
       "      <td>11738</td>\n",
       "      <td>30</td>\n",
       "      <td>One Way</td>\n",
       "      <td>Indego30</td>\n",
       "    </tr>\n",
       "    <tr>\n",
       "      <th>2</th>\n",
       "      <td>241475851</td>\n",
       "      <td>8</td>\n",
       "      <td>2018-04-01 00:13:00</td>\n",
       "      <td>2018-04-01 00:21:00</td>\n",
       "      <td>3052</td>\n",
       "      <td>39.947319</td>\n",
       "      <td>-75.156952</td>\n",
       "      <td>3005</td>\n",
       "      <td>39.947330</td>\n",
       "      <td>-75.144028</td>\n",
       "      <td>3658</td>\n",
       "      <td>365</td>\n",
       "      <td>One Way</td>\n",
       "      <td>Indego365</td>\n",
       "    </tr>\n",
       "    <tr>\n",
       "      <th>3</th>\n",
       "      <td>241475853</td>\n",
       "      <td>24</td>\n",
       "      <td>2018-04-01 00:13:00</td>\n",
       "      <td>2018-04-01 00:37:00</td>\n",
       "      <td>3086</td>\n",
       "      <td>39.940189</td>\n",
       "      <td>-75.166908</td>\n",
       "      <td>3035</td>\n",
       "      <td>39.962711</td>\n",
       "      <td>-75.194191</td>\n",
       "      <td>3337</td>\n",
       "      <td>30</td>\n",
       "      <td>One Way</td>\n",
       "      <td>Indego30</td>\n",
       "    </tr>\n",
       "    <tr>\n",
       "      <th>4</th>\n",
       "      <td>241487572</td>\n",
       "      <td>53</td>\n",
       "      <td>2018-04-01 00:13:00</td>\n",
       "      <td>2018-04-01 01:06:00</td>\n",
       "      <td>3029</td>\n",
       "      <td>39.953800</td>\n",
       "      <td>-75.194794</td>\n",
       "      <td>3093</td>\n",
       "      <td>39.988369</td>\n",
       "      <td>-75.187012</td>\n",
       "      <td>3415</td>\n",
       "      <td>30</td>\n",
       "      <td>One Way</td>\n",
       "      <td>Indego30</td>\n",
       "    </tr>\n",
       "  </tbody>\n",
       "</table>\n",
       "</div>"
      ],
      "text/plain": [
       "     trip_id  duration          start_time             end_time  \\\n",
       "0  241475855         3 2018-04-01 00:06:00  2018-04-01 00:09:00   \n",
       "1  241475854         3 2018-04-01 00:09:00  2018-04-01 00:12:00   \n",
       "2  241475851         8 2018-04-01 00:13:00  2018-04-01 00:21:00   \n",
       "3  241475853        24 2018-04-01 00:13:00  2018-04-01 00:37:00   \n",
       "4  241487572        53 2018-04-01 00:13:00  2018-04-01 01:06:00   \n",
       "\n",
       "   start_station  start_lat  start_lon  end_station    end_lat    end_lon  \\\n",
       "0           3114  39.937752 -75.180122         3053  39.932308 -75.181541   \n",
       "1           3156  39.953812 -75.174072         3165  39.958191 -75.178200   \n",
       "2           3052  39.947319 -75.156952         3005  39.947330 -75.144028   \n",
       "3           3086  39.940189 -75.166908         3035  39.962711 -75.194191   \n",
       "4           3029  39.953800 -75.194794         3093  39.988369 -75.187012   \n",
       "\n",
       "   bike_id  plan_duration trip_route_category passholder_type  \n",
       "0     2497             30             One Way        Indego30  \n",
       "1    11738             30             One Way        Indego30  \n",
       "2     3658            365             One Way       Indego365  \n",
       "3     3337             30             One Way        Indego30  \n",
       "4     3415             30             One Way        Indego30  "
      ]
     },
     "execution_count": 10,
     "metadata": {},
     "output_type": "execute_result"
    }
   ],
   "source": [
    "df.head()"
   ]
  },
  {
   "cell_type": "markdown",
   "metadata": {},
   "source": [
    "Some Cleaning\n",
    "---\n",
    "\n",
    "Rename some columns\n",
    "Drop duplicates"
   ]
  },
  {
   "cell_type": "code",
   "execution_count": 16,
   "metadata": {},
   "outputs": [],
   "source": [
    "data = (df.copy()\n",
    "        #.query('')\n",
    "        #.drop(['end_time'], axis=1)\n",
    "        #.rename_axis({\"bike\": \"bike_id\", \"stattion_id\": \"station\"}, axis=1)\n",
    "        .drop_duplicates()\n",
    "        #.sort_values([\"start_station\", \"start_time\"])\n",
    "       )"
   ]
  },
  {
   "cell_type": "code",
   "execution_count": 17,
   "metadata": {},
   "outputs": [
    {
     "data": {
      "text/html": [
       "<div>\n",
       "<style scoped>\n",
       "    .dataframe tbody tr th:only-of-type {\n",
       "        vertical-align: middle;\n",
       "    }\n",
       "\n",
       "    .dataframe tbody tr th {\n",
       "        vertical-align: top;\n",
       "    }\n",
       "\n",
       "    .dataframe thead th {\n",
       "        text-align: right;\n",
       "    }\n",
       "</style>\n",
       "<table border=\"1\" class=\"dataframe\">\n",
       "  <thead>\n",
       "    <tr style=\"text-align: right;\">\n",
       "      <th></th>\n",
       "      <th>trip_id</th>\n",
       "      <th>duration</th>\n",
       "      <th>start_time</th>\n",
       "      <th>end_time</th>\n",
       "      <th>start_station</th>\n",
       "      <th>start_lat</th>\n",
       "      <th>start_lon</th>\n",
       "      <th>end_station</th>\n",
       "      <th>end_lat</th>\n",
       "      <th>end_lon</th>\n",
       "      <th>bike_id</th>\n",
       "      <th>plan_duration</th>\n",
       "      <th>trip_route_category</th>\n",
       "      <th>passholder_type</th>\n",
       "    </tr>\n",
       "  </thead>\n",
       "  <tbody>\n",
       "    <tr>\n",
       "      <th>0</th>\n",
       "      <td>241475855</td>\n",
       "      <td>3</td>\n",
       "      <td>2018-04-01 00:06:00</td>\n",
       "      <td>2018-04-01 00:09:00</td>\n",
       "      <td>3114</td>\n",
       "      <td>39.937752</td>\n",
       "      <td>-75.180122</td>\n",
       "      <td>3053</td>\n",
       "      <td>39.932308</td>\n",
       "      <td>-75.181541</td>\n",
       "      <td>2497</td>\n",
       "      <td>30</td>\n",
       "      <td>One Way</td>\n",
       "      <td>Indego30</td>\n",
       "    </tr>\n",
       "    <tr>\n",
       "      <th>1</th>\n",
       "      <td>241475854</td>\n",
       "      <td>3</td>\n",
       "      <td>2018-04-01 00:09:00</td>\n",
       "      <td>2018-04-01 00:12:00</td>\n",
       "      <td>3156</td>\n",
       "      <td>39.953812</td>\n",
       "      <td>-75.174072</td>\n",
       "      <td>3165</td>\n",
       "      <td>39.958191</td>\n",
       "      <td>-75.178200</td>\n",
       "      <td>11738</td>\n",
       "      <td>30</td>\n",
       "      <td>One Way</td>\n",
       "      <td>Indego30</td>\n",
       "    </tr>\n",
       "    <tr>\n",
       "      <th>2</th>\n",
       "      <td>241475851</td>\n",
       "      <td>8</td>\n",
       "      <td>2018-04-01 00:13:00</td>\n",
       "      <td>2018-04-01 00:21:00</td>\n",
       "      <td>3052</td>\n",
       "      <td>39.947319</td>\n",
       "      <td>-75.156952</td>\n",
       "      <td>3005</td>\n",
       "      <td>39.947330</td>\n",
       "      <td>-75.144028</td>\n",
       "      <td>3658</td>\n",
       "      <td>365</td>\n",
       "      <td>One Way</td>\n",
       "      <td>Indego365</td>\n",
       "    </tr>\n",
       "    <tr>\n",
       "      <th>3</th>\n",
       "      <td>241475853</td>\n",
       "      <td>24</td>\n",
       "      <td>2018-04-01 00:13:00</td>\n",
       "      <td>2018-04-01 00:37:00</td>\n",
       "      <td>3086</td>\n",
       "      <td>39.940189</td>\n",
       "      <td>-75.166908</td>\n",
       "      <td>3035</td>\n",
       "      <td>39.962711</td>\n",
       "      <td>-75.194191</td>\n",
       "      <td>3337</td>\n",
       "      <td>30</td>\n",
       "      <td>One Way</td>\n",
       "      <td>Indego30</td>\n",
       "    </tr>\n",
       "    <tr>\n",
       "      <th>4</th>\n",
       "      <td>241487572</td>\n",
       "      <td>53</td>\n",
       "      <td>2018-04-01 00:13:00</td>\n",
       "      <td>2018-04-01 01:06:00</td>\n",
       "      <td>3029</td>\n",
       "      <td>39.953800</td>\n",
       "      <td>-75.194794</td>\n",
       "      <td>3093</td>\n",
       "      <td>39.988369</td>\n",
       "      <td>-75.187012</td>\n",
       "      <td>3415</td>\n",
       "      <td>30</td>\n",
       "      <td>One Way</td>\n",
       "      <td>Indego30</td>\n",
       "    </tr>\n",
       "  </tbody>\n",
       "</table>\n",
       "</div>"
      ],
      "text/plain": [
       "     trip_id  duration          start_time             end_time  \\\n",
       "0  241475855         3 2018-04-01 00:06:00  2018-04-01 00:09:00   \n",
       "1  241475854         3 2018-04-01 00:09:00  2018-04-01 00:12:00   \n",
       "2  241475851         8 2018-04-01 00:13:00  2018-04-01 00:21:00   \n",
       "3  241475853        24 2018-04-01 00:13:00  2018-04-01 00:37:00   \n",
       "4  241487572        53 2018-04-01 00:13:00  2018-04-01 01:06:00   \n",
       "\n",
       "   start_station  start_lat  start_lon  end_station    end_lat    end_lon  \\\n",
       "0           3114  39.937752 -75.180122         3053  39.932308 -75.181541   \n",
       "1           3156  39.953812 -75.174072         3165  39.958191 -75.178200   \n",
       "2           3052  39.947319 -75.156952         3005  39.947330 -75.144028   \n",
       "3           3086  39.940189 -75.166908         3035  39.962711 -75.194191   \n",
       "4           3029  39.953800 -75.194794         3093  39.988369 -75.187012   \n",
       "\n",
       "   bike_id  plan_duration trip_route_category passholder_type  \n",
       "0     2497             30             One Way        Indego30  \n",
       "1    11738             30             One Way        Indego30  \n",
       "2     3658            365             One Way       Indego365  \n",
       "3     3337             30             One Way        Indego30  \n",
       "4     3415             30             One Way        Indego30  "
      ]
     },
     "execution_count": 17,
     "metadata": {},
     "output_type": "execute_result"
    }
   ],
   "source": [
    "df.head(()"
   ]
  },
  {
   "cell_type": "markdown",
   "metadata": {},
   "source": [
    "Data Preprocessing\n",
    "---\n",
    "Trim Trip Duration\n",
    "--"
   ]
  },
  {
   "cell_type": "code",
   "execution_count": 18,
   "metadata": {},
   "outputs": [
    {
     "data": {
      "image/png": "[encoded data removed]",
      "text/plain": [
       "<Figure size 1152x576 with 2 Axes>"
      ]
     },
     "metadata": {
      "needs_background": "light"
     },
     "output_type": "display_data"
    }
   ],
   "source": [
    "#Trim Trip Duration\n",
    "# Check trip duration distribution. We can see that the log data is like normal distribution\n",
    "\n",
    "# Distribution with raw data\n",
    "plt.figure(figsize=(16, 8))\n",
    "ax1 = plt.subplot(121)\n",
    "labels, values = zip(*Counter(df.duration).items())\n",
    "indexes = np.arange(len(labels))\n",
    "ax1.bar(indexes,values, 1)\n",
    "plt.xlabel('Raw Duration')\n",
    "plt.ylabel('Counts')\n",
    "ax1.spines['right'].set_color('none')\n",
    "ax1.spines['top'].set_color('none')\n",
    "\n",
    "## Distribution with log data \n",
    "interval_log = np.log10(np.array(df.duration))\n",
    "ax2 = plt.subplot(122)\n",
    "ax2.hist(interval_log, bins=30)\n",
    "plt.xlabel('Duration(10^)')\n",
    "plt.ylabel('Counts')\n",
    "ax2.spines['right'].set_color('none')\n",
    "ax2.spines['top'].set_color('none')"
   ]
  },
  {
   "cell_type": "code",
   "execution_count": 19,
   "metadata": {},
   "outputs": [],
   "source": [
    "# Based on the plots, we use logged data to trim trip duration in order to remove some outliers.\n",
    "duration_mean = np.mean(interval_log)\n",
    "duration_std = np.std(interval_log)\n",
    "\n",
    "# Set up upbound and bottom bound. t1 is about 4 hours and t2 is about 2 mins.\n",
    "t1 = np.mean(interval_log) + 2*np.std(interval_log)\n",
    "t2 = np.mean(interval_log) - 2*np.std(interval_log)\n",
    "\n",
    "# Trim raw trips data by t1 and t2\n",
    "trip = df[(df.duration >= 120) & (df.duration <= 4*3600) ]"
   ]
  },
  {
   "cell_type": "markdown",
   "metadata": {},
   "source": [
    "Discover Lifecycle Interval\n",
    "---\n",
    "Kmeans\n",
    "--"
   ]
  },
  {
   "cell_type": "code",
   "execution_count": 20,
   "metadata": {},
   "outputs": [],
   "source": [
    "# Since there is no indicator for a bike's lifecycle, we start from using KMeans to group trips of each bike to try to \n",
    "# find lifecycle interval. Using Silhouette coefficient to find the optimal K for a specific bike.\n",
    "#Discover Lifecycle Interval KM\n",
    "def timedifference(row):\n",
    "    \"\"\"Calculate time difference between each trip of a specific bike.\n",
    "    \"\"\"\n",
    "    startdifference = ((row['start_time']-initialstart)/np.timedelta64(1, 'h'))\n",
    "    enddifference   = ((row['end_time']-initialend)/np.timedelta64(1, 'h'))\n",
    "    return pd.Series((startdifference, enddifference))\n",
    "\n",
    "def sil_cal_elbow(X, start, end):\n",
    "    \"\"\"Calculate silhouette coeff with different k.\n",
    "    \"\"\"\n",
    "    result_list = []\n",
    "    for n in range(start, end+1):\n",
    "        kmeans = KMeans(n_clusters=n)\n",
    "        p = kmeans.fit(X)\n",
    "        t = metrics.silhouette_score(X, p.labels_)\n",
    "        result_list.append(t)\n",
    "    return result_list\n",
    "\n",
    "def generatetraining(choose_id):\n",
    "    \"\"\"Generate subset based on bike id.\n",
    "    \"\"\"\n",
    "    global initialstart\n",
    "    global initialend\n",
    "    df['start_time'] = pd.to_datetime(df['start_time'], errors='coerce')\n",
    "    df['start_time'] = pd.to_datetime(df['start_time'], errors='coerce')\n",
    "    \n",
    "    test = df[df.bike_id == choose_id]\n",
    "    \n",
    "    test = test.sort_values('start_time')\n",
    "    test['start_time']=pd.to_datetime(test['start_time'].values)\n",
    "    test['end_time']=pd.to_datetime(test['end_time'].values)\n",
    "    initialstart = test.iloc[0].start_time\n",
    "    initialend   = test.iloc[0].end_time\n",
    "    training_feature  = test.apply(timedifference, axis=1)\n",
    "    training_feature.columns = ['start_diff', 'end_diff']\n",
    "    return training_feature\n",
    "\n",
    "def siloutteplot(training_feature):\n",
    "    \"\"\"Plot siloutte vs K.\n",
    "    \"\"\"\n",
    "    t = sil_cal_elbow(training_feature, 2, 10)\n",
    "    fig, ax = plt.subplots(figsize = [8,8], facecolor=[0.9,0.9,0.9])\n",
    "    ax.spines['right'].set_color('none')\n",
    "    ax.spines['top'].set_color('none')\n",
    "    ax.xaxis.set_ticks_position('bottom')\n",
    "    ax.yaxis.set_ticks_position('left')\n",
    "    x_axis=list(range(2,11))\n",
    "    y_axis=t\n",
    "    ax.plot(x_axis, t, 'b*-')\n",
    "    plt.xlabel('K')\n",
    "    plt.ylabel('Coefficient (1 is best, -1 is worst)')\n",
    "    plt.title('Silhouette coefficient')\n",
    "    plt.show()\n",
    "\n",
    "    \n",
    "def clusterplot(K, training_feature):\n",
    "    \"\"\"Plot clutered trips with optimal K.\n",
    "    \"\"\"\n",
    "    km = KMeans(K)\n",
    "    km.fit(training_feature)\n",
    "    mu = km.cluster_centers_\n",
    "    labels = km.labels_\n",
    "    fig, ax = plt.subplots(figsize = [8,8], facecolor=[0.9,0.9,0.9])\n",
    "    ax.spines['right'].set_color('none')\n",
    "    ax.spines['top'].set_color('none')\n",
    "    ax.xaxis.set_ticks_position('bottom')\n",
    "    ax.yaxis.set_ticks_position('left')\n",
    "    ax.scatter(training_feature['start_diff'], training_feature['end_diff'], c=labels, alpha=0.4)\n",
    "    ax.scatter(mu[:,0], mu[:,1], s=300, c=np.unique(labels))\n",
    "    plt.xlabel('start time')\n",
    "    plt.ylabel('end time')\n",
    "    plt.show()"
   ]
  },
  {
   "cell_type": "code",
   "execution_count": 21,
   "metadata": {},
   "outputs": [
    {
     "data": {
      "image/png": "[encoded data removed]",
      "text/plain": [
       "<Figure size 576x576 with 1 Axes>"
      ]
     },
     "metadata": {},
     "output_type": "display_data"
    }
   ],
   "source": [
    "# KMeans with bike_id 2497\n",
    "#df['bike_id'].value_counts: Series.value_counts of trip_id\n",
    "#241475855     2497\n",
    "#241475854    11738\n",
    "#241475851     3658\n",
    "\n",
    "training_feature = generatetraining(2497)\n",
    "siloutteplot(training_feature)"
   ]
  },
  {
   "cell_type": "code",
   "execution_count": 22,
   "metadata": {},
   "outputs": [
    {
     "data": {
      "image/png": "[encoded data removed]",
      "text/plain": [
       "<Figure size 576x576 with 1 Axes>"
      ]
     },
     "metadata": {},
     "output_type": "display_data"
    }
   ],
   "source": [
    "# The optimal K from the above plot is 9. And the clustering for bike id 2497 is pretty good\n",
    "clusterplot(10, training_feature)"
   ]
  },
  {
   "cell_type": "code",
   "execution_count": 23,
   "metadata": {},
   "outputs": [
    {
     "data": {
      "image/png": "[encoded data removed]",
      "text/plain": [
       "<Figure size 576x576 with 1 Axes>"
      ]
     },
     "metadata": {},
     "output_type": "display_data"
    }
   ],
   "source": [
    "# KMeans with bike_id 3658\n",
    "training_feature = generatetraining(3658)\n",
    "siloutteplot(training_feature)"
   ]
  },
  {
   "cell_type": "code",
   "execution_count": 24,
   "metadata": {},
   "outputs": [
    {
     "data": {
      "image/png": "[encoded data removed]",
      "text/plain": [
       "<Figure size 576x576 with 1 Axes>"
      ]
     },
     "metadata": {},
     "output_type": "display_data"
    }
   ],
   "source": [
    "# The optimal K from the above plot is 2. And the clustering for bike id 342 is not that good.\n",
    "clusterplot(2, training_feature)"
   ]
  },
  {
   "cell_type": "markdown",
   "metadata": {},
   "source": [
    "From the above two exampels, the method is KMenas fails to find the duration interval for all bikes. With the statistical method to get a reasonal duration interval based on the assumption that duration interval is normal distribution.\n"
   ]
  },
  {
   "cell_type": "code",
   "execution_count": 25,
   "metadata": {},
   "outputs": [
    {
     "name": "stderr",
     "output_type": "stream",
     "text": [
      "/Users/melike/anaconda2/lib/python2.7/site-packages/pandas/core/indexing.py:543: SettingWithCopyWarning: \n",
      "A value is trying to be set on a copy of a slice from a DataFrame.\n",
      "Try using .loc[row_indexer,col_indexer] = value instead\n",
      "\n",
      "See the caveats in the documentation: http://pandas.pydata.org/pandas-docs/stable/indexing.html#indexing-view-versus-copy\n",
      "  self.obj[item] = s\n"
     ]
    }
   ],
   "source": [
    "#Probability Value\n",
    "def collectinterval(dataset):\n",
    "    \"\"\"Collect all trip intervals.\n",
    "    \"\"\"\n",
    "    interval_list = []\n",
    "    bikeid = set(dataset.bike_id.unique())\n",
    "    for bike_id in bikeid:\n",
    "        temp = dataset[dataset['bike_id'] == bike_id] \n",
    "        temp.loc[:,'start_time'] =pd.to_datetime(temp['start_time'].values)\n",
    "        temp.loc[:,'end_time'] =pd.to_datetime(temp['end_time'].values)\n",
    "        temp = temp.sort_values(by=['start_time'])\n",
    "        for i in range(1, len(temp)):\n",
    "            t = int((temp.iloc[i].start_time-temp.iloc[i-1].end_time)/np.timedelta64(1, 'm'))\n",
    "            interval_list.append(t)\n",
    "    return interval_list\n",
    "interval_list = collectinterval(trip)"
   ]
  },
  {
   "cell_type": "code",
   "execution_count": 27,
   "metadata": {},
   "outputs": [
    {
     "name": "stderr",
     "output_type": "stream",
     "text": [
      "/Users/melike/anaconda2/lib/python2.7/site-packages/ipykernel_launcher.py:14: RuntimeWarning: divide by zero encountered in log\n",
      "  \n",
      "/Users/melike/anaconda2/lib/python2.7/site-packages/ipykernel_launcher.py:14: RuntimeWarning: invalid value encountered in log\n",
      "  \n"
     ]
    },
    {
     "data": {
      "image/png": "[encoded data removed]",
      "text/plain": [
       "<Figure size 1152x576 with 2 Axes>"
      ]
     },
     "metadata": {
      "needs_background": "light"
     },
     "output_type": "display_data"
    }
   ],
   "source": [
    "# Distribution with raw data\n",
    "plt.figure(figsize=(16, 8))\n",
    "ax3 = plt.subplot(121)\n",
    "labels, values = zip(*Counter(interval_list).items())\n",
    "indexes = np.arange(len(labels))\n",
    "ax3.bar(indexes,values, 1)\n",
    "plt.xlabel('Raw Interval')\n",
    "plt.ylabel('Counts')\n",
    "ax3.set_ylim(0, 1200)\n",
    "ax3.spines['right'].set_color('none')\n",
    "ax3.spines['top'].set_color('none')\n",
    "\n",
    "## Distribution with log data \n",
    "interval_lg = np.log(np.array(interval_list))\n",
    "interval_lg = interval_lg[~np.isnan(interval_lg)]\n",
    "interval_lg = interval_lg[~np.isinf(interval_lg)]\n",
    "ax4 = plt.subplot(122)\n",
    "ax4.hist(interval_lg, bins=15)\n",
    "plt.xlabel('Interval(e^)')\n",
    "plt.ylabel('Counts')\n",
    "ax4.spines['right'].set_color('none')\n",
    "ax4.spines['top'].set_color('none')"
   ]
  },
  {
   "cell_type": "code",
   "execution_count": 30,
   "metadata": {},
   "outputs": [
    {
     "name": "stdout",
     "output_type": "stream",
     "text": [
      "('t: and t2:', 12.492744131340508, 11.944808727885562)\n"
     ]
    }
   ],
   "source": [
    "# Calculate the up bound of interval. We get t ~= 7 and t2 ~= 4\n",
    "t = np.mean(interval_lg) + 2*np.std(interval_lg)  # 95%\n",
    "t2 = np.mean(interval_lg) + (1.644)*np.std(interval_lg) # 90%\n",
    "print('t: and t2:', t, t2)"
   ]
  },
  {
   "cell_type": "code",
   "execution_count": null,
   "metadata": {},
   "outputs": [
    {
     "name": "stderr",
     "output_type": "stream",
     "text": [
      "/Users/melike/anaconda2/lib/python2.7/site-packages/ipykernel_launcher.py:37: SettingWithCopyWarning: \n",
      "A value is trying to be set on a copy of a slice from a DataFrame.\n",
      "Try using .loc[row_indexer,col_indexer] = value instead\n",
      "\n",
      "See the caveats in the documentation: http://pandas.pydata.org/pandas-docs/stable/indexing.html#indexing-view-versus-copy\n",
      "/Users/melike/anaconda2/lib/python2.7/site-packages/ipykernel_launcher.py:38: SettingWithCopyWarning: \n",
      "A value is trying to be set on a copy of a slice from a DataFrame.\n",
      "Try using .loc[row_indexer,col_indexer] = value instead\n",
      "\n",
      "See the caveats in the documentation: http://pandas.pydata.org/pandas-docs/stable/indexing.html#indexing-view-versus-copy\n"
     ]
    }
   ],
   "source": [
    "def tempcovert(temp):\n",
    "    \"\"\"Group trips with the calculated interval\n",
    "    \"\"\"\n",
    "    final_id_list = []\n",
    "    bike_group = []\n",
    "    counts = 0\n",
    "    final_id = []\n",
    "    for i in range(len(temp)):\n",
    "        old_id = temp.iloc[i].bike_id\n",
    "        if i == 0:\n",
    "            bike_group.append(str(old_id) +'_'+str(counts))\n",
    "        elif i == len(temp)-1:\n",
    "            bike_group.append(str(old_id) +'_'+str(counts)) \n",
    "            final_id = str(old_id) +'_'+str(counts) \n",
    "            final_id_list.append(final_id)\n",
    "        else:\n",
    "            if (int((temp.iloc[i].start_time-temp.iloc[i-1].end_time)/np.timedelta64(1, 'D')) > 4 and\n",
    "               temp.iloc[i].start_station != temp.iloc[i-1].end_station):\n",
    "                counts += 1\n",
    "            elif int((temp.iloc[i].start_time-temp.iloc[i-1].end_time)/np.timedelta64(1, 'D')) > 7:\n",
    "                counts += 1\n",
    "            bike_group.append(str(old_id) +'_'+str(counts))\n",
    "    result = pd.DataFrame(bike_group, columns = ['bike_group'], index=temp.index)\n",
    "    temp = pd.concat([temp, result], axis =1)\n",
    "    return temp, final_id\n",
    "\n",
    "def generateduration(dataset):\n",
    "    \"\"\"Generate new dataset based on lifecycle.\n",
    "    \"\"\"\n",
    "    new_pd = pd.DataFrame()\n",
    "    finalid_list = []\n",
    "    id_set = set(dataset.bike_id.unique())\n",
    "    df['counts'] = df['duration'].value_counts()\n",
    "    for bikeid in id_set:\n",
    "        temp = dataset[dataset['bike_id'] == bikeid]\n",
    "        temp.sort_values(by=['start_time'])\n",
    "        temp['start_time'] =pd.to_datetime(temp['start_time'].values)\n",
    "        temp['end_time'] =pd.to_datetime(temp['end_time'].values)\n",
    "        temp, final_id = tempcovert(temp)\n",
    "        new_pd = pd.concat([new_pd, temp])\n",
    "        finalid_list.append(final_id)\n",
    "    return new_pd, finalid_list\n",
    "\n",
    "new_pd, finalid_list = generateduration(df)\n",
    "new_pd_removelast = new_pd[~new_pd['bike_group'].isin(finalid_list)]\n",
    "new_pd_removelast.to_csv('Dataset/lifecycle_final.csv')"
   ]
  },
  {
   "cell_type": "markdown",
   "metadata": {},
   "source": [
    "Data Analysis\n",
    "---\n",
    "Current Feature Analysis\n",
    "--\n",
    "Duration VS Subscription Ratio\n",
    "-"
   ]
  },
  {
   "cell_type": "markdown",
   "metadata": {},
   "source": [
    "Duration VS Trips Number\n",
    "--"
   ]
  },
  {
   "cell_type": "code",
   "execution_count": null,
   "metadata": {},
   "outputs": [],
   "source": [
    "#df = pd.read_csv('indego-trips-2018-q2.csv')\n"
   ]
  },
  {
   "cell_type": "code",
   "execution_count": 4,
   "metadata": {},
   "outputs": [
    {
     "name": "stderr",
     "output_type": "stream",
     "text": [
      "/Users/melike/anaconda2/lib/python2.7/site-packages/IPython/core/interactiveshell.py:2714: DtypeWarning: Columns (10) have mixed types. Specify dtype option on import or set low_memory=False.\n",
      "  interactivity=interactivity, compiler=compiler, result=result)\n"
     ]
    }
   ],
   "source": [
    "# Load raw data\n",
    "path =r'/Users/melike/machinelearning/Indeco_data'\n",
    "allFiles = glob.glob(path + \"/*.csv\")\n",
    "list_ = []\n",
    "\n",
    "for file_ in allFiles:\n",
    "    df = pd.read_csv(file_,index_col=None, header=0,parse_dates=['start_time'])\n",
    "    \n",
    "    #handle missing column\n",
    "    df = df.replace('[]', np.nan)\n",
    "    df = df.replace('...', np.nan)\n",
    "    #df.replace('',-99999, inplace=True)\n",
    "    modifiedFlights=df.fillna(\"...\")\n",
    "    modifiedFlights = df.dropna()\n",
    "    modifiedFlights.isnull().sum()\n",
    "    modifiedFlights.to_csv('modifiedFlights.csv',index=False)\n",
    "    df=df.dropna()\n",
    "    list_.append(df)\n",
    "    #df.drop(to_drop, inplace=True, axis=1)\n",
    "    \n",
    "    \n",
    "    \n",
    "frame = pd.concat(list_)"
   ]
  },
  {
   "cell_type": "code",
   "execution_count": 10,
   "metadata": {},
   "outputs": [
    {
     "data": {
      "text/html": [
       "<div>\n",
       "<style scoped>\n",
       "    .dataframe tbody tr th:only-of-type {\n",
       "        vertical-align: middle;\n",
       "    }\n",
       "\n",
       "    .dataframe tbody tr th {\n",
       "        vertical-align: top;\n",
       "    }\n",
       "\n",
       "    .dataframe thead th {\n",
       "        text-align: right;\n",
       "    }\n",
       "</style>\n",
       "<table border=\"1\" class=\"dataframe\">\n",
       "  <thead>\n",
       "    <tr style=\"text-align: right;\">\n",
       "      <th></th>\n",
       "      <th>trip_id</th>\n",
       "      <th>duration</th>\n",
       "      <th>start_time</th>\n",
       "      <th>end_time</th>\n",
       "      <th>start_station</th>\n",
       "      <th>start_lat</th>\n",
       "      <th>start_lon</th>\n",
       "      <th>end_station</th>\n",
       "      <th>end_lat</th>\n",
       "      <th>end_lon</th>\n",
       "      <th>bike_id</th>\n",
       "      <th>plan_duration</th>\n",
       "      <th>trip_route_category</th>\n",
       "      <th>passholder_type</th>\n",
       "    </tr>\n",
       "  </thead>\n",
       "  <tbody>\n",
       "    <tr>\n",
       "      <th>0</th>\n",
       "      <td>4614547</td>\n",
       "      <td>1620</td>\n",
       "      <td>2016-04-01 00:03:00</td>\n",
       "      <td>4/1/2016 0:30</td>\n",
       "      <td>3023</td>\n",
       "      <td>39.95048</td>\n",
       "      <td>-75.17286</td>\n",
       "      <td>3023</td>\n",
       "      <td>39.95048</td>\n",
       "      <td>-75.17286</td>\n",
       "      <td>3509</td>\n",
       "      <td>30</td>\n",
       "      <td>Round Trip</td>\n",
       "      <td>Indego30</td>\n",
       "    </tr>\n",
       "    <tr>\n",
       "      <th>1</th>\n",
       "      <td>4614548</td>\n",
       "      <td>780</td>\n",
       "      <td>2016-04-01 00:06:00</td>\n",
       "      <td>4/1/2016 0:19</td>\n",
       "      <td>3009</td>\n",
       "      <td>39.95576</td>\n",
       "      <td>-75.18982</td>\n",
       "      <td>3066</td>\n",
       "      <td>39.94561</td>\n",
       "      <td>-75.17348</td>\n",
       "      <td>2566</td>\n",
       "      <td>30</td>\n",
       "      <td>One Way</td>\n",
       "      <td>Indego30</td>\n",
       "    </tr>\n",
       "    <tr>\n",
       "      <th>2</th>\n",
       "      <td>4614549</td>\n",
       "      <td>60</td>\n",
       "      <td>2016-04-01 00:09:00</td>\n",
       "      <td>4/1/2016 0:10</td>\n",
       "      <td>3063</td>\n",
       "      <td>39.94633</td>\n",
       "      <td>-75.16980</td>\n",
       "      <td>3063</td>\n",
       "      <td>39.94633</td>\n",
       "      <td>-75.16980</td>\n",
       "      <td>3281</td>\n",
       "      <td>30</td>\n",
       "      <td>Round Trip</td>\n",
       "      <td>Indego30</td>\n",
       "    </tr>\n",
       "    <tr>\n",
       "      <th>3</th>\n",
       "      <td>4614550</td>\n",
       "      <td>360</td>\n",
       "      <td>2016-04-01 00:10:00</td>\n",
       "      <td>4/1/2016 0:16</td>\n",
       "      <td>3063</td>\n",
       "      <td>39.94633</td>\n",
       "      <td>-75.16980</td>\n",
       "      <td>3064</td>\n",
       "      <td>39.93840</td>\n",
       "      <td>-75.17327</td>\n",
       "      <td>3288</td>\n",
       "      <td>30</td>\n",
       "      <td>One Way</td>\n",
       "      <td>Indego30</td>\n",
       "    </tr>\n",
       "    <tr>\n",
       "      <th>4</th>\n",
       "      <td>4614551</td>\n",
       "      <td>660</td>\n",
       "      <td>2016-04-01 00:11:00</td>\n",
       "      <td>4/1/2016 0:22</td>\n",
       "      <td>3066</td>\n",
       "      <td>39.94561</td>\n",
       "      <td>-75.17348</td>\n",
       "      <td>3047</td>\n",
       "      <td>39.95071</td>\n",
       "      <td>-75.14921</td>\n",
       "      <td>3404</td>\n",
       "      <td>30</td>\n",
       "      <td>One Way</td>\n",
       "      <td>Indego30</td>\n",
       "    </tr>\n",
       "  </tbody>\n",
       "</table>\n",
       "</div>"
      ],
      "text/plain": [
       "   trip_id  duration          start_time       end_time  start_station  \\\n",
       "0  4614547      1620 2016-04-01 00:03:00  4/1/2016 0:30           3023   \n",
       "1  4614548       780 2016-04-01 00:06:00  4/1/2016 0:19           3009   \n",
       "2  4614549        60 2016-04-01 00:09:00  4/1/2016 0:10           3063   \n",
       "3  4614550       360 2016-04-01 00:10:00  4/1/2016 0:16           3063   \n",
       "4  4614551       660 2016-04-01 00:11:00  4/1/2016 0:22           3066   \n",
       "\n",
       "   start_lat  start_lon  end_station   end_lat   end_lon  bike_id  \\\n",
       "0   39.95048  -75.17286         3023  39.95048 -75.17286     3509   \n",
       "1   39.95576  -75.18982         3066  39.94561 -75.17348     2566   \n",
       "2   39.94633  -75.16980         3063  39.94633 -75.16980     3281   \n",
       "3   39.94633  -75.16980         3064  39.93840 -75.17327     3288   \n",
       "4   39.94561  -75.17348         3047  39.95071 -75.14921     3404   \n",
       "\n",
       "   plan_duration trip_route_category passholder_type  \n",
       "0             30          Round Trip        Indego30  \n",
       "1             30             One Way        Indego30  \n",
       "2             30          Round Trip        Indego30  \n",
       "3             30             One Way        Indego30  \n",
       "4             30             One Way        Indego30  "
      ]
     },
     "execution_count": 10,
     "metadata": {},
     "output_type": "execute_result"
    }
   ],
   "source": [
    "#df.head()\n",
    "#df.shape"
   ]
  },
  {
   "cell_type": "code",
   "execution_count": 142,
   "metadata": {},
   "outputs": [
    {
     "data": {
      "image/png": "[encoded data removed]",
      "text/plain": [
       "<Figure size 432x288 with 1 Axes>"
      ]
     },
     "metadata": {
      "needs_background": "light"
     },
     "output_type": "display_data"
    }
   ],
   "source": [
    "#plt.figure(figsize=(17, 10))\n",
    "ax6 = plt.subplot(111)\n",
    "ax6.hist(df['duration'], bins=30, color=\"green\")\n",
    "plt.xlabel('duration')\n",
    "plt.ylabel('Count')\n",
    "plt.title('duration distribution')\n",
    "ax6.set_xlim(0,25000)\n",
    "ax6.spines['right'].set_visible(False)\n",
    "ax6.spines['top'].set_visible(False)"
   ]
  },
  {
   "cell_type": "code",
   "execution_count": 143,
   "metadata": {},
   "outputs": [
    {
     "data": {
      "image/png": "[encoded data removed]",
      "text/plain": [
       "<Figure size 432x288 with 1 Axes>"
      ]
     },
     "metadata": {
      "needs_background": "light"
     },
     "output_type": "display_data"
    }
   ],
   "source": [
    "#plt.figure(figsize=(16, 8))\n",
    "ax2 = plt.subplot(111)\n",
    "ax2.hist(df['bike_id'], bins=30, color=\"green\")\n",
    "plt.xlabel('bike_id')\n",
    "plt.ylabel('count')\n",
    "plt.title('bike id')\n",
    "#ax2.set_xlim(0,12000)\n",
    "ax2.spines['right'].set_visible(False)\n",
    "ax2.spines['top'].set_visible(False)"
   ]
  },
  {
   "cell_type": "code",
   "execution_count": 144,
   "metadata": {},
   "outputs": [
    {
     "data": {
      "image/png": "[encoded data removed]",
      "text/plain": [
       "<Figure size 432x288 with 1 Axes>"
      ]
     },
     "metadata": {
      "needs_background": "light"
     },
     "output_type": "display_data"
    }
   ],
   "source": [
    "#plt.figure(figsize=(16, 8))\n",
    "ax2 = plt.subplot(111)\n",
    "ax2.hist(df['bike_id'], bins=30, color=\"green\")\n",
    "plt.xlabel('bike id')\n",
    "plt.ylabel('count')\n",
    "plt.title('bike id')\n",
    "#ax2.set_xlim(0,12000)\n",
    "ax2.spines['right'].set_visible(False)\n",
    "ax2.spines['top'].set_visible(False)"
   ]
  },
  {
   "cell_type": "code",
   "execution_count": 145,
   "metadata": {},
   "outputs": [
    {
     "data": {
      "image/png": "[encoded data removed]",
      "text/plain": [
       "<Figure size 432x288 with 1 Axes>"
      ]
     },
     "metadata": {
      "needs_background": "light"
     },
     "output_type": "display_data"
    }
   ],
   "source": [
    "# Second plot: Bike LifeCycle V.S. Trips Number in LifeCycle\n",
    "#plt.figure(figsize=(16, 8))\n",
    "ax7 = plt.subplot(111)\n",
    "ax7.scatter(df['plan_duration'], df['duration'], color='b', alpha=0.2)\n",
    "plt.xlabel('plan_duration')\n",
    "plt.ylabel('duration')\n",
    "plt.title('plan_duration V.S. duration')\n",
    "#ax7.set_ylim(0, 20000)\n",
    "ax7.spines['right'].set_visible(False)\n",
    "ax7.spines['top'].set_visible(False)"
   ]
  },
  {
   "cell_type": "code",
   "execution_count": 146,
   "metadata": {},
   "outputs": [
    {
     "data": {
      "image/png": "[encoded data removed]",
      "text/plain": [
       "<Figure size 432x288 with 1 Axes>"
      ]
     },
     "metadata": {
      "needs_background": "light"
     },
     "output_type": "display_data"
    }
   ],
   "source": [
    "\n",
    "#plt.figure(figsize=(16, 8))\n",
    "ax77 = plt.subplot(111)\n",
    "ax77.scatter(df['bike_id'], df['passholder_type'], color='b', alpha=0.2)\n",
    "plt.xlabel('bike id')\n",
    "plt.ylabel('passholder type')\n",
    "plt.title('bike trips duration ')\n",
    "#ax77.set_ylim(0, 3000)\n",
    "#ax77.set_xlim(0,12000)\n",
    "ax77.spines['right'].set_visible(False)\n",
    "ax77.spines['top'].set_visible(False)"
   ]
  },
  {
   "cell_type": "code",
   "execution_count": 147,
   "metadata": {},
   "outputs": [
    {
     "data": {
      "image/png": "[encoded data removed]",
      "text/plain": [
       "<Figure size 432x288 with 1 Axes>"
      ]
     },
     "metadata": {
      "needs_background": "light"
     },
     "output_type": "display_data"
    }
   ],
   "source": [
    "#plt.figure(figsize=(16, 8))\n",
    "ax87 = plt.subplot(111)\n",
    "ax87.scatter(df['duration'], df['passholder_type'], color='b', alpha=0.2)\n",
    "plt.xlabel('duration')\n",
    "plt.ylabel('passholder type')\n",
    "plt.title(' passholder type & trips duration ')\n",
    "#ax77.set_ylim(0, 3000)\n",
    "#ax77.set_xlim(0,12000)\n",
    "ax87.spines['right'].set_visible(False)\n",
    "ax87.spines['top'].set_visible(False)"
   ]
  },
  {
   "cell_type": "code",
   "execution_count": 105,
   "metadata": {},
   "outputs": [
    {
     "data": {
      "image/png": "[encoded data removed]",
      "text/plain": [
       "<Figure size 432x288 with 1 Axes>"
      ]
     },
     "metadata": {
      "needs_background": "light"
     },
     "output_type": "display_data"
    }
   ],
   "source": [
    "# Second plot: Bike LifeCycle V.S. Trips Number in LifeCycle\n",
    "#plt.figure(figsize=(16, 8))\n",
    "ax7 = plt.subplot(111)\n",
    "ax7.scatter(df['duration'], df['bike_id'], color='b', alpha=0.2)\n",
    "plt.xlabel('duration')\n",
    "plt.ylabel('bike_id')\n",
    "plt.title('bike trips duration ')\n",
    "#ax7.set_xlim(0,12000)\n",
    "ax7.spines['right'].set_visible(False)\n",
    "ax7.spines['top'].set_visible(False)"
   ]
  },
  {
   "cell_type": "code",
   "execution_count": 148,
   "metadata": {},
   "outputs": [
    {
     "data": {
      "text/plain": [
       "<matplotlib.axes._subplots.AxesSubplot at 0x1a18986450>"
      ]
     },
     "execution_count": 148,
     "metadata": {},
     "output_type": "execute_result"
    },
    {
     "data": {
      "image/png": "[encoded data removed]",
      "text/plain": [
       "<Figure size 432x288 with 1 Axes>"
      ]
     },
     "metadata": {
      "needs_background": "light"
     },
     "output_type": "display_data"
    }
   ],
   "source": [
    "df[:24*10].plot(x='start_time', y='duration')"
   ]
  },
  {
   "cell_type": "code",
   "execution_count": 149,
   "metadata": {},
   "outputs": [
    {
     "data": {
      "text/plain": [
       "<matplotlib.axes._subplots.AxesSubplot at 0x1a183abc50>"
      ]
     },
     "execution_count": 149,
     "metadata": {},
     "output_type": "execute_result"
    },
    {
     "data": {
      "image/png": "[encoded data removed]",
      "text/plain": [
       "<Figure size 432x288 with 1 Axes>"
      ]
     },
     "metadata": {
      "needs_background": "light"
     },
     "output_type": "display_data"
    }
   ],
   "source": [
    "df[:24*10].plot(x='end_time', y='duration')"
   ]
  },
  {
   "cell_type": "code",
   "execution_count": 108,
   "metadata": {},
   "outputs": [
    {
     "data": {
      "text/plain": [
       "<matplotlib.axes._subplots.AxesSubplot at 0x1a1897acd0>"
      ]
     },
     "execution_count": 108,
     "metadata": {},
     "output_type": "execute_result"
    },
    {
     "data": {
      "image/png": "[encoded data removed]",
      "text/plain": [
       "<Figure size 432x288 with 1 Axes>"
      ]
     },
     "metadata": {
      "needs_background": "light"
     },
     "output_type": "display_data"
    }
   ],
   "source": [
    "df[:20*10].plot(x='passholder_type', y='duration')"
   ]
  },
  {
   "cell_type": "code",
   "execution_count": 151,
   "metadata": {},
   "outputs": [
    {
     "data": {
      "text/html": [
       "<div>\n",
       "<style scoped>\n",
       "    .dataframe tbody tr th:only-of-type {\n",
       "        vertical-align: middle;\n",
       "    }\n",
       "\n",
       "    .dataframe tbody tr th {\n",
       "        vertical-align: top;\n",
       "    }\n",
       "\n",
       "    .dataframe thead th {\n",
       "        text-align: right;\n",
       "    }\n",
       "</style>\n",
       "<table border=\"1\" class=\"dataframe\">\n",
       "  <thead>\n",
       "    <tr style=\"text-align: right;\">\n",
       "      <th></th>\n",
       "      <th>trip_id</th>\n",
       "      <th>duration</th>\n",
       "      <th>start_time</th>\n",
       "      <th>end_time</th>\n",
       "      <th>start_station</th>\n",
       "      <th>start_lat</th>\n",
       "      <th>start_lon</th>\n",
       "      <th>end_station</th>\n",
       "      <th>end_lat</th>\n",
       "      <th>end_lon</th>\n",
       "      <th>bike_id</th>\n",
       "      <th>plan_duration</th>\n",
       "      <th>trip_route_category</th>\n",
       "      <th>passholder_type</th>\n",
       "      <th>year</th>\n",
       "      <th>month</th>\n",
       "      <th>hour</th>\n",
       "      <th>counts</th>\n",
       "    </tr>\n",
       "  </thead>\n",
       "  <tbody>\n",
       "    <tr>\n",
       "      <th>98061</th>\n",
       "      <td>4735895</td>\n",
       "      <td>600</td>\n",
       "      <td>2016-05-31 21:02:00</td>\n",
       "      <td>5/31/2016 21:12</td>\n",
       "      <td>3045</td>\n",
       "      <td>39.94792</td>\n",
       "      <td>-75.16237</td>\n",
       "      <td>3034</td>\n",
       "      <td>39.93315</td>\n",
       "      <td>-75.16248</td>\n",
       "      <td>2686</td>\n",
       "      <td>30</td>\n",
       "      <td>One Way</td>\n",
       "      <td>Indego30</td>\n",
       "      <td>2016</td>\n",
       "      <td>5</td>\n",
       "      <td>21</td>\n",
       "      <td>NaN</td>\n",
       "    </tr>\n",
       "  </tbody>\n",
       "</table>\n",
       "</div>"
      ],
      "text/plain": [
       "       trip_id  duration          start_time         end_time  start_station  \\\n",
       "98061  4735895       600 2016-05-31 21:02:00  5/31/2016 21:12           3045   \n",
       "\n",
       "       start_lat  start_lon  end_station   end_lat   end_lon  bike_id  \\\n",
       "98061   39.94792  -75.16237         3034  39.93315 -75.16248     2686   \n",
       "\n",
       "       plan_duration trip_route_category passholder_type  year  month  hour  \\\n",
       "98061             30             One Way        Indego30  2016      5    21   \n",
       "\n",
       "       counts  \n",
       "98061     NaN  "
      ]
     },
     "execution_count": 151,
     "metadata": {},
     "output_type": "execute_result"
    }
   ],
   "source": [
    "df.sample()"
   ]
  },
  {
   "cell_type": "code",
   "execution_count": 50,
   "metadata": {},
   "outputs": [
    {
     "data": {
      "text/plain": [
       "1   -75.174072\n",
       "2   -75.156952\n",
       "3   -75.166908\n",
       "4   -75.194794\n",
       "5   -75.136414\n",
       "Name: start_lon, dtype: float64"
      ]
     },
     "execution_count": 50,
     "metadata": {},
     "output_type": "execute_result"
    }
   ],
   "source": [
    "df.start_lon.head()"
   ]
  },
  {
   "cell_type": "code",
   "execution_count": 152,
   "metadata": {},
   "outputs": [],
   "source": [
    "# Heat Map, Check folder 'Html/heatmap.html'\n",
    "heatMapData = pd.DataFrame()\n",
    "d = df[['duration', 'start_lat', 'start_lon']].groupby(['start_lat', 'start_lon']).sum()\n",
    "lats = []\n",
    "longs = []\n",
    "for e in d.index.values.tolist():\n",
    "    lats.append(e[0])\n",
    "    longs.append(e[1])\n",
    "heatMapData['start_lat'] = lats\n",
    "heatMapData['start_lon'] = longs\n",
    "heatMapData['duration'] = d.duration.values"
   ]
  },
  {
   "cell_type": "code",
   "execution_count": 153,
   "metadata": {},
   "outputs": [],
   "source": [
    "data = []\n",
    "for index, row in heatMapData.iterrows():\n",
    "    temp = {}\n",
    "    temp['start_lat'] = row['start_lon']\n",
    "    temp['start_lon'] = row['start_lon']\n",
    "    temp['count'] = row['duration']\n",
    "    data.append(temp)"
   ]
  },
  {
   "cell_type": "code",
   "execution_count": 154,
   "metadata": {},
   "outputs": [
    {
     "data": {
      "image/png": "[encoded data removed]",
      "text/plain": [
       "<Figure size 432x288 with 1 Axes>"
      ]
     },
     "metadata": {
      "needs_background": "light"
     },
     "output_type": "display_data"
    }
   ],
   "source": [
    "# Second plot: Bike LifeCycle V.S. Trips Number in LifeCycle\n",
    "#plt.figure(figsize=(16, 8))\n",
    "ax72 = plt.subplot(111)\n",
    "ax72.scatter(df['duration'], df['counts'], color='b', alpha=0.2)\n",
    "plt.xlabel('duration')\n",
    "plt.ylabel('count')\n",
    "plt.title('count trips duration ')\n",
    "#ax72.set_xlim(0,1000)\n",
    "ax72.spines['right'].set_visible(False)\n",
    "ax72.spines['top'].set_visible(False)\n",
    "\n"
   ]
  },
  {
   "cell_type": "markdown",
   "metadata": {},
   "source": [
    "Duration VS Period\n",
    "---"
   ]
  },
  {
   "cell_type": "code",
   "execution_count": 155,
   "metadata": {},
   "outputs": [],
   "source": [
    "df['start_time'] = pd.to_datetime(df['start_time'])\n",
    "df['end_time'] = pd.to_datetime(df['end_time'])\n",
    "\n",
    "times = list(range(8, 21, 4))\n",
    "labels = ['morning', 'afternoon', 'evening', 'night']\n",
    "periods = dict(zip(times, labels))\n",
    "def period(row):\n",
    "    visit_start = {'hour': row.start_time.hour, 'min': row.start_time.minute} # get hour, min of visit start\n",
    "    visit_end = {'hour': row.end_time.hour, 'min': row.end_time.minute} # get hour, min of visit end\n",
    "    for period_start, label in periods.items():\n",
    "        period_end = period_start + 4\n",
    "        if period_start <= visit_start['hour'] < period_end:\n",
    "            if period_start <= visit_end['hour'] < period_end or (period_end - visit_start['hour']) * 60 - visit_start['min'] > (visit_end['hour'] - period_end) * 60 + visit_end['min']:\n",
    "                return label\n",
    "            else:\n",
    "                return periods[period_end] # assign label of following period  \n",
    "df['period'] = df.apply(period, axis=1)"
   ]
  },
  {
   "cell_type": "code",
   "execution_count": 156,
   "metadata": {},
   "outputs": [
    {
     "ename": "ValueError",
     "evalue": "can not merge DataFrame with instance of type <type 'list'>",
     "output_type": "error",
     "traceback": [
      "\u001b[0;31m---------------------------------------------------------------------------\u001b[0m",
      "\u001b[0;31mValueError\u001b[0m                                Traceback (most recent call last)",
      "\u001b[0;32m<ipython-input-156-60040ac03b86>\u001b[0m in \u001b[0;36m<module>\u001b[0;34m()\u001b[0m\n\u001b[1;32m     13\u001b[0m \u001b[0;34m\u001b[0m\u001b[0m\n\u001b[1;32m     14\u001b[0m \u001b[0;31m# Calculate morning duration rate compared to total duration\u001b[0m\u001b[0;34m\u001b[0m\u001b[0;34m\u001b[0m\u001b[0m\n\u001b[0;32m---> 15\u001b[0;31m \u001b[0mmorning_duration\u001b[0m \u001b[0;34m=\u001b[0m \u001b[0mpd\u001b[0m\u001b[0;34m.\u001b[0m\u001b[0mmerge\u001b[0m\u001b[0;34m(\u001b[0m\u001b[0mduration\u001b[0m\u001b[0;34m,\u001b[0m \u001b[0mperiod\u001b[0m\u001b[0;34m.\u001b[0m\u001b[0mloc\u001b[0m\u001b[0;34m[\u001b[0m\u001b[0mperiod\u001b[0m\u001b[0;34m.\u001b[0m\u001b[0mperiod\u001b[0m \u001b[0;34m==\u001b[0m \u001b[0;34m'morning'\u001b[0m\u001b[0;34m]\u001b[0m\u001b[0;34m,\u001b[0m \u001b[0mon\u001b[0m\u001b[0;34m=\u001b[0m\u001b[0;34m'bike_id'\u001b[0m\u001b[0;34m,\u001b[0m \u001b[0mhow\u001b[0m\u001b[0;34m=\u001b[0m\u001b[0;34m\"left\"\u001b[0m\u001b[0;34m)\u001b[0m\u001b[0;34m\u001b[0m\u001b[0m\n\u001b[0m\u001b[1;32m     16\u001b[0m \u001b[0mmorning_duration\u001b[0m\u001b[0;34m[\u001b[0m\u001b[0;34m'period'\u001b[0m\u001b[0;34m]\u001b[0m \u001b[0;34m=\u001b[0m \u001b[0mmorning_duration\u001b[0m\u001b[0;34m[\u001b[0m\u001b[0;34m'period'\u001b[0m\u001b[0;34m]\u001b[0m\u001b[0;34m.\u001b[0m\u001b[0mfillna\u001b[0m\u001b[0;34m(\u001b[0m\u001b[0;34m'morning'\u001b[0m\u001b[0;34m)\u001b[0m\u001b[0;34m\u001b[0m\u001b[0m\n\u001b[1;32m     17\u001b[0m \u001b[0mmorning_duration\u001b[0m\u001b[0;34m[\u001b[0m\u001b[0;34m'duration_y'\u001b[0m\u001b[0;34m]\u001b[0m \u001b[0;34m=\u001b[0m \u001b[0mmorning_duration\u001b[0m\u001b[0;34m[\u001b[0m\u001b[0;34m'duration_y'\u001b[0m\u001b[0;34m]\u001b[0m\u001b[0;34m.\u001b[0m\u001b[0mfillna\u001b[0m\u001b[0;34m(\u001b[0m\u001b[0;36m0\u001b[0m\u001b[0;34m)\u001b[0m\u001b[0;34m\u001b[0m\u001b[0m\n",
      "\u001b[0;32m/Users/melike/anaconda2/lib/python2.7/site-packages/pandas/core/reshape/merge.pyc\u001b[0m in \u001b[0;36mmerge\u001b[0;34m(left, right, how, on, left_on, right_on, left_index, right_index, sort, suffixes, copy, indicator, validate)\u001b[0m\n\u001b[1;32m     59\u001b[0m                          \u001b[0mright_index\u001b[0m\u001b[0;34m=\u001b[0m\u001b[0mright_index\u001b[0m\u001b[0;34m,\u001b[0m \u001b[0msort\u001b[0m\u001b[0;34m=\u001b[0m\u001b[0msort\u001b[0m\u001b[0;34m,\u001b[0m \u001b[0msuffixes\u001b[0m\u001b[0;34m=\u001b[0m\u001b[0msuffixes\u001b[0m\u001b[0;34m,\u001b[0m\u001b[0;34m\u001b[0m\u001b[0m\n\u001b[1;32m     60\u001b[0m                          \u001b[0mcopy\u001b[0m\u001b[0;34m=\u001b[0m\u001b[0mcopy\u001b[0m\u001b[0;34m,\u001b[0m \u001b[0mindicator\u001b[0m\u001b[0;34m=\u001b[0m\u001b[0mindicator\u001b[0m\u001b[0;34m,\u001b[0m\u001b[0;34m\u001b[0m\u001b[0m\n\u001b[0;32m---> 61\u001b[0;31m                          validate=validate)\n\u001b[0m\u001b[1;32m     62\u001b[0m     \u001b[0;32mreturn\u001b[0m \u001b[0mop\u001b[0m\u001b[0;34m.\u001b[0m\u001b[0mget_result\u001b[0m\u001b[0;34m(\u001b[0m\u001b[0;34m)\u001b[0m\u001b[0;34m\u001b[0m\u001b[0m\n\u001b[1;32m     63\u001b[0m \u001b[0;34m\u001b[0m\u001b[0m\n",
      "\u001b[0;32m/Users/melike/anaconda2/lib/python2.7/site-packages/pandas/core/reshape/merge.pyc\u001b[0m in \u001b[0;36m__init__\u001b[0;34m(self, left, right, how, on, left_on, right_on, axis, left_index, right_index, sort, suffixes, copy, indicator, validate)\u001b[0m\n\u001b[1;32m    522\u001b[0m         \u001b[0;32mif\u001b[0m \u001b[0;32mnot\u001b[0m \u001b[0misinstance\u001b[0m\u001b[0;34m(\u001b[0m\u001b[0mleft\u001b[0m\u001b[0;34m,\u001b[0m \u001b[0mDataFrame\u001b[0m\u001b[0;34m)\u001b[0m\u001b[0;34m:\u001b[0m\u001b[0;34m\u001b[0m\u001b[0m\n\u001b[1;32m    523\u001b[0m             raise ValueError('can not merge DataFrame with instance of '\n\u001b[0;32m--> 524\u001b[0;31m                              'type {left}'.format(left=type(left)))\n\u001b[0m\u001b[1;32m    525\u001b[0m         \u001b[0;32mif\u001b[0m \u001b[0;32mnot\u001b[0m \u001b[0misinstance\u001b[0m\u001b[0;34m(\u001b[0m\u001b[0mright\u001b[0m\u001b[0;34m,\u001b[0m \u001b[0mDataFrame\u001b[0m\u001b[0;34m)\u001b[0m\u001b[0;34m:\u001b[0m\u001b[0;34m\u001b[0m\u001b[0m\n\u001b[1;32m    526\u001b[0m             raise ValueError('can not merge DataFrame with instance of '\n",
      "\u001b[0;31mValueError\u001b[0m: can not merge DataFrame with instance of type <type 'list'>"
     ]
    }
   ],
   "source": [
    "%matplotlib inline\n",
    "\n",
    "period = pd.DataFrame()\n",
    "d = df[['bike_id', 'period', 'duration']].groupby(['bike_id', 'period']).sum()\n",
    "bike_ids = []\n",
    "p = []\n",
    "for e in d.index.values:\n",
    "    bike_ids.append(e[0])\n",
    "    p.append(e[1])\n",
    "period['bike_group'] = bike_ids\n",
    "period['period'] = p\n",
    "period['duration'] = [x[0] for x in d.values.tolist()]\n",
    "\n",
    "# Calculate morning duration rate compared to total duration\n",
    "morning_duration = pd.merge(duration, period.loc[period.period == 'morning'], on='bike_id', how=\"left\")\n",
    "morning_duration['period'] = morning_duration['period'].fillna('morning')\n",
    "morning_duration['duration_y'] = morning_duration['duration_y'].fillna(0)\n",
    "morning_duration['morning rate'] = morning_duration['duration_y']/morning_duration['duration_x']\n",
    "\n",
    "# Calculate afternoon duration rate compared to total duration\n",
    "afternoon_duration = pd.merge(duration, period.loc[period.period == 'afternoon'], on='bike_id', how=\"left\")\n",
    "afternoon_duration['period'] = afternoon_duration['period'].fillna('afternoon')\n",
    "afternoon_duration['duration_y'] = afternoon_duration['duration_y'].fillna(0)\n",
    "afternoon_duration['afternoon rate'] = afternoon_duration['duration_y']/afternoon_duration['duration_x']\n",
    "\n",
    "# Calculate evening duration rate compared to total duration\n",
    "evening_duration = pd.merge(duration, period.loc[period.period == 'evening'], on='bike_id', how=\"left\")\n",
    "evening_duration['period'] = evening_duration['period'].fillna('evening')\n",
    "evening_duration['duration_y'] = evening_duration['duration_y'].fillna(0)\n",
    "evening_duration['evening rate'] = evening_duration['duration_y']/evening_duration['duration_x']\n",
    "\n",
    "# Calculate night duration rate compared to total duration\n",
    "night_duration = pd.merge(duration, period.loc[period.period == 'night'], on='bike_id', how=\"left\")\n",
    "night_duration['period'] = night_duration['period'].fillna('night')\n",
    "night_duration['duration_y'] = night_duration['duration_y'].fillna(0)\n",
    "night_duration['night rate'] = night_duration['duration_y']/night_duration['duration_x']\n",
    "\n",
    "plt.figure(figsize=(16, 8))\n",
    "ax10 = plt.subplot(111)\n",
    "ax10.scatter(morning_duration['morning rate'], morning_duration['duration_x'], color='blue', alpha=1, label=\"Morning\", s=3)\n",
    "ax10.scatter(afternoon_duration['afternoon rate'], afternoon_duration['duration_x'], color='red', alpha=1, label=\"Afternoon\", s=3)\n",
    "ax10.scatter(evening_duration['evening rate'], evening_duration['duration_x'], color='green', alpha=1, label=\"Evening\", s=3)\n",
    "ax10.scatter(night_duration['night rate'], night_duration['duration_x'], color='orange', alpha=1, label=\"Night\", s=3)\n",
    "\n",
    "plt.xlabel('Period Ratio')\n",
    "plt.ylabel('LifeCycle Duration')\n",
    "plt.title('Bike LifeCycle V.S. Period Ratio')\n",
    "ax10.spines['right'].set_visible(False)\n",
    "ax10.spines['top'].set_visible(False)\n",
    "plt.legend()"
   ]
  },
  {
   "cell_type": "markdown",
   "metadata": {},
   "source": [
    "Modeling\n",
    "==="
   ]
  },
  {
   "cell_type": "code",
   "execution_count": 158,
   "metadata": {},
   "outputs": [
    {
     "data": {
      "text/plain": [
       "(170824, 19)"
      ]
     },
     "execution_count": 158,
     "metadata": {},
     "output_type": "execute_result"
    }
   ],
   "source": [
    "df.shape"
   ]
  },
  {
   "cell_type": "code",
   "execution_count": 164,
   "metadata": {},
   "outputs": [
    {
     "data": {
      "text/html": [
       "<div>\n",
       "<style scoped>\n",
       "    .dataframe tbody tr th:only-of-type {\n",
       "        vertical-align: middle;\n",
       "    }\n",
       "\n",
       "    .dataframe tbody tr th {\n",
       "        vertical-align: top;\n",
       "    }\n",
       "\n",
       "    .dataframe thead th {\n",
       "        text-align: right;\n",
       "    }\n",
       "</style>\n",
       "<table border=\"1\" class=\"dataframe\">\n",
       "  <thead>\n",
       "    <tr style=\"text-align: right;\">\n",
       "      <th></th>\n",
       "      <th>trip_id</th>\n",
       "      <th>duration</th>\n",
       "      <th>start_time</th>\n",
       "      <th>end_time</th>\n",
       "      <th>start_station</th>\n",
       "      <th>start_lat</th>\n",
       "      <th>start_lon</th>\n",
       "      <th>end_station</th>\n",
       "      <th>end_lat</th>\n",
       "      <th>end_lon</th>\n",
       "      <th>bike_id</th>\n",
       "      <th>plan_duration</th>\n",
       "      <th>trip_route_category</th>\n",
       "      <th>passholder_type</th>\n",
       "      <th>year</th>\n",
       "      <th>month</th>\n",
       "      <th>hour</th>\n",
       "      <th>counts</th>\n",
       "      <th>period</th>\n",
       "    </tr>\n",
       "  </thead>\n",
       "  <tbody>\n",
       "    <tr>\n",
       "      <th>0</th>\n",
       "      <td>4614547</td>\n",
       "      <td>1620</td>\n",
       "      <td>2016-04-01 00:03:00</td>\n",
       "      <td>2016-04-01 00:30:00</td>\n",
       "      <td>3023</td>\n",
       "      <td>39.95048</td>\n",
       "      <td>-75.17286</td>\n",
       "      <td>3023</td>\n",
       "      <td>39.95048</td>\n",
       "      <td>-75.17286</td>\n",
       "      <td>3509</td>\n",
       "      <td>30</td>\n",
       "      <td>Round Trip</td>\n",
       "      <td>Indego30</td>\n",
       "      <td>2016</td>\n",
       "      <td>4</td>\n",
       "      <td>0</td>\n",
       "      <td>NaN</td>\n",
       "      <td>None</td>\n",
       "    </tr>\n",
       "    <tr>\n",
       "      <th>1</th>\n",
       "      <td>4614548</td>\n",
       "      <td>780</td>\n",
       "      <td>2016-04-01 00:06:00</td>\n",
       "      <td>2016-04-01 00:19:00</td>\n",
       "      <td>3009</td>\n",
       "      <td>39.95576</td>\n",
       "      <td>-75.18982</td>\n",
       "      <td>3066</td>\n",
       "      <td>39.94561</td>\n",
       "      <td>-75.17348</td>\n",
       "      <td>2566</td>\n",
       "      <td>30</td>\n",
       "      <td>One Way</td>\n",
       "      <td>Indego30</td>\n",
       "      <td>2016</td>\n",
       "      <td>4</td>\n",
       "      <td>0</td>\n",
       "      <td>NaN</td>\n",
       "      <td>None</td>\n",
       "    </tr>\n",
       "  </tbody>\n",
       "</table>\n",
       "</div>"
      ],
      "text/plain": [
       "   trip_id  duration          start_time            end_time  start_station  \\\n",
       "0  4614547      1620 2016-04-01 00:03:00 2016-04-01 00:30:00           3023   \n",
       "1  4614548       780 2016-04-01 00:06:00 2016-04-01 00:19:00           3009   \n",
       "\n",
       "   start_lat  start_lon  end_station   end_lat   end_lon  bike_id  \\\n",
       "0   39.95048  -75.17286         3023  39.95048 -75.17286     3509   \n",
       "1   39.95576  -75.18982         3066  39.94561 -75.17348     2566   \n",
       "\n",
       "   plan_duration trip_route_category passholder_type  year  month  hour  \\\n",
       "0             30          Round Trip        Indego30  2016      4     0   \n",
       "1             30             One Way        Indego30  2016      4     0   \n",
       "\n",
       "   counts period  \n",
       "0     NaN   None  \n",
       "1     NaN   None  "
      ]
     },
     "execution_count": 164,
     "metadata": {},
     "output_type": "execute_result"
    }
   ],
   "source": [
    "df.head(2)"
   ]
  },
  {
   "cell_type": "code",
   "execution_count": 15,
   "metadata": {},
   "outputs": [],
   "source": [
    "df = df.replace('[]', np.nan)\n",
    "df = df.replace('...', np.nan)\n",
    "    #df.replace('',-99999, inplace=True)\n",
    "modifiedFlights=df.fillna(\"...\")\n",
    "modifiedFlights = df.dropna()\n",
    "modifiedFlights.isnull().sum()\n",
    "modifiedFlights.to_csv('modifiedFlights.csv',index=False)\n",
    "df=df.dropna()"
   ]
  },
  {
   "cell_type": "code",
   "execution_count": 16,
   "metadata": {},
   "outputs": [
    {
     "data": {
      "text/plain": [
       "(170824, 14)"
      ]
     },
     "execution_count": 16,
     "metadata": {},
     "output_type": "execute_result"
    }
   ],
   "source": [
    "df.shape"
   ]
  },
  {
   "cell_type": "code",
   "execution_count": 25,
   "metadata": {},
   "outputs": [
    {
     "data": {
      "text/html": [
       "<div>\n",
       "<style scoped>\n",
       "    .dataframe tbody tr th:only-of-type {\n",
       "        vertical-align: middle;\n",
       "    }\n",
       "\n",
       "    .dataframe tbody tr th {\n",
       "        vertical-align: top;\n",
       "    }\n",
       "\n",
       "    .dataframe thead th {\n",
       "        text-align: right;\n",
       "    }\n",
       "</style>\n",
       "<table border=\"1\" class=\"dataframe\">\n",
       "  <thead>\n",
       "    <tr style=\"text-align: right;\">\n",
       "      <th></th>\n",
       "      <th>trip_id</th>\n",
       "      <th>duration</th>\n",
       "      <th>start_time</th>\n",
       "      <th>end_time</th>\n",
       "      <th>start_station</th>\n",
       "      <th>start_lat</th>\n",
       "      <th>start_lon</th>\n",
       "      <th>end_station</th>\n",
       "      <th>end_lat</th>\n",
       "      <th>end_lon</th>\n",
       "      <th>bike_id</th>\n",
       "      <th>plan_duration</th>\n",
       "      <th>trip_route_category</th>\n",
       "      <th>passholder_type</th>\n",
       "    </tr>\n",
       "  </thead>\n",
       "  <tbody>\n",
       "    <tr>\n",
       "      <th>0</th>\n",
       "      <td>4614547</td>\n",
       "      <td>1620.0</td>\n",
       "      <td>2016-04-01 00:03:00</td>\n",
       "      <td>4/1/2016 0:30</td>\n",
       "      <td>3023.0</td>\n",
       "      <td>39.95048</td>\n",
       "      <td>-75.17286</td>\n",
       "      <td>3023.0</td>\n",
       "      <td>39.95048</td>\n",
       "      <td>-75.17286</td>\n",
       "      <td>3509.0</td>\n",
       "      <td>30.0</td>\n",
       "      <td>Round Trip</td>\n",
       "      <td>Indego30</td>\n",
       "    </tr>\n",
       "    <tr>\n",
       "      <th>1</th>\n",
       "      <td>4614548</td>\n",
       "      <td>780.0</td>\n",
       "      <td>2016-04-01 00:06:00</td>\n",
       "      <td>4/1/2016 0:19</td>\n",
       "      <td>3009.0</td>\n",
       "      <td>39.95576</td>\n",
       "      <td>-75.18982</td>\n",
       "      <td>3066.0</td>\n",
       "      <td>39.94561</td>\n",
       "      <td>-75.17348</td>\n",
       "      <td>2566.0</td>\n",
       "      <td>30.0</td>\n",
       "      <td>One Way</td>\n",
       "      <td>Indego30</td>\n",
       "    </tr>\n",
       "    <tr>\n",
       "      <th>2</th>\n",
       "      <td>4614549</td>\n",
       "      <td>60.0</td>\n",
       "      <td>2016-04-01 00:09:00</td>\n",
       "      <td>4/1/2016 0:10</td>\n",
       "      <td>3063.0</td>\n",
       "      <td>39.94633</td>\n",
       "      <td>-75.16980</td>\n",
       "      <td>3063.0</td>\n",
       "      <td>39.94633</td>\n",
       "      <td>-75.16980</td>\n",
       "      <td>3281.0</td>\n",
       "      <td>30.0</td>\n",
       "      <td>Round Trip</td>\n",
       "      <td>Indego30</td>\n",
       "    </tr>\n",
       "    <tr>\n",
       "      <th>3</th>\n",
       "      <td>4614550</td>\n",
       "      <td>360.0</td>\n",
       "      <td>2016-04-01 00:10:00</td>\n",
       "      <td>4/1/2016 0:16</td>\n",
       "      <td>3063.0</td>\n",
       "      <td>39.94633</td>\n",
       "      <td>-75.16980</td>\n",
       "      <td>3064.0</td>\n",
       "      <td>39.93840</td>\n",
       "      <td>-75.17327</td>\n",
       "      <td>3288.0</td>\n",
       "      <td>30.0</td>\n",
       "      <td>One Way</td>\n",
       "      <td>Indego30</td>\n",
       "    </tr>\n",
       "    <tr>\n",
       "      <th>4</th>\n",
       "      <td>4614551</td>\n",
       "      <td>660.0</td>\n",
       "      <td>2016-04-01 00:11:00</td>\n",
       "      <td>4/1/2016 0:22</td>\n",
       "      <td>3066.0</td>\n",
       "      <td>39.94561</td>\n",
       "      <td>-75.17348</td>\n",
       "      <td>3047.0</td>\n",
       "      <td>39.95071</td>\n",
       "      <td>-75.14921</td>\n",
       "      <td>3404.0</td>\n",
       "      <td>30.0</td>\n",
       "      <td>One Way</td>\n",
       "      <td>Indego30</td>\n",
       "    </tr>\n",
       "  </tbody>\n",
       "</table>\n",
       "</div>"
      ],
      "text/plain": [
       "   trip_id  duration          start_time       end_time  start_station  \\\n",
       "0  4614547    1620.0 2016-04-01 00:03:00  4/1/2016 0:30         3023.0   \n",
       "1  4614548     780.0 2016-04-01 00:06:00  4/1/2016 0:19         3009.0   \n",
       "2  4614549      60.0 2016-04-01 00:09:00  4/1/2016 0:10         3063.0   \n",
       "3  4614550     360.0 2016-04-01 00:10:00  4/1/2016 0:16         3063.0   \n",
       "4  4614551     660.0 2016-04-01 00:11:00  4/1/2016 0:22         3066.0   \n",
       "\n",
       "   start_lat  start_lon  end_station   end_lat   end_lon  bike_id  \\\n",
       "0   39.95048  -75.17286       3023.0  39.95048 -75.17286   3509.0   \n",
       "1   39.95576  -75.18982       3066.0  39.94561 -75.17348   2566.0   \n",
       "2   39.94633  -75.16980       3063.0  39.94633 -75.16980   3281.0   \n",
       "3   39.94633  -75.16980       3064.0  39.93840 -75.17327   3288.0   \n",
       "4   39.94561  -75.17348       3047.0  39.95071 -75.14921   3404.0   \n",
       "\n",
       "   plan_duration trip_route_category passholder_type  \n",
       "0           30.0          Round Trip        Indego30  \n",
       "1           30.0             One Way        Indego30  \n",
       "2           30.0          Round Trip        Indego30  \n",
       "3           30.0             One Way        Indego30  \n",
       "4           30.0             One Way        Indego30  "
      ]
     },
     "execution_count": 25,
     "metadata": {},
     "output_type": "execute_result"
    }
   ],
   "source": [
    "df.head()"
   ]
  },
  {
   "cell_type": "code",
   "execution_count": 20,
   "metadata": {},
   "outputs": [],
   "source": [
    "df.start_station= df.start_station.astype(float).fillna(0.0)\n",
    "df.duration= df.duration.astype(float).fillna(0.0)\n",
    "df.bike_id= df.bike_id.astype(float).fillna(0.0)\n",
    "df.plan_duration= df.plan_duration.astype(float).fillna(0.0)\n",
    "df.end_station= df.end_station.astype(float).fillna(0.0)\n",
    "# df.drop(['passholder_type'], 1, inplace=True) \n",
    "# df.drop(['trip_route_category'], 1, inplace=True)\n",
    "#df['start_time'] = pd.to_datetime(df['start_time'], errors='coerce')\n",
    "#df['end_time'] = pd.to_datetime(df['start_time'], errors='coerce')"
   ]
  },
  {
   "cell_type": "code",
   "execution_count": 26,
   "metadata": {},
   "outputs": [],
   "source": [
    "df['start_time'] = pd.to_datetime(df['start_time'], errors='coerce')\n",
    "df['end_time'] = pd.to_datetime(df['start_time'], errors='coerce')\n",
    "to_drop = ['passholder_type',\n",
    "           'trip_route_category',\n",
    "            'start_time',\n",
    "            'end_time',\n",
    "           'trip_id'\n",
    "           \n",
    "            ]\n",
    "df.drop(to_drop, inplace=True, axis=1)"
   ]
  },
  {
   "cell_type": "markdown",
   "metadata": {},
   "source": [
    "Linear Regression\n",
    "==\n",
    "\n",
    "Fitting Model\n",
    "--"
   ]
  },
  {
   "cell_type": "code",
   "execution_count": 27,
   "metadata": {},
   "outputs": [],
   "source": [
    "df.reset_index(drop=True, inplace=True)\n",
    "def standardize(raw_data):\n",
    "    return ((raw_data - np.mean(raw_data, axis = 0)) / np.std(raw_data, axis = 0))"
   ]
  },
  {
   "cell_type": "code",
   "execution_count": 28,
   "metadata": {},
   "outputs": [
    {
     "name": "stdout",
     "output_type": "stream",
     "text": [
      "('test_featurestndard',        start_station  start_lat  start_lon  end_station    end_lat    end_lon  \\\n",
      "0          -0.298952   0.146273   0.454867     0.128026   0.090649  -0.088957   \n",
      "1          -0.758363  -0.194893  -0.251471    -1.260883   0.090671  -0.091483   \n",
      "2          -0.889624   0.127219   1.165512     0.789411   0.088454  -0.090099   \n",
      "3           0.357350   1.069962  -0.690164    -0.864052   0.093087  -0.090019   \n",
      "4          -0.922439   0.009262   0.552696     0.293372   0.095396  -0.093551   \n",
      "5           0.652686  -0.636776  -0.289619     2.079112   0.092850  -0.092291   \n",
      "6          -0.463028  -0.667626  -0.672936    -0.268806   0.093144  -0.091693   \n",
      "7           0.554241  -0.571446  -0.063197     0.690203   0.090791  -0.093447   \n",
      "8          -1.217775   0.284191  -1.294981     0.987826   0.096673  -0.091674   \n",
      "9           0.816761   0.825883  -1.175618    -0.566429   0.089427  -0.089983   \n",
      "10          0.849576  -1.649386   1.437464     2.145251   0.095192  -0.088074   \n",
      "11         -0.791179   0.189826  -0.889514    -0.235736   0.091391  -0.096434   \n",
      "12         -0.298952   0.146273   0.454867     0.392580   0.095920  -0.094390   \n",
      "13         -0.659918  -1.020588   1.423313    -1.161676   0.091200  -0.092389   \n",
      "14         -0.561473   0.106349  -1.600774    -0.764845   0.093275  -0.094860   \n",
      "15         -1.184960  -0.500672   0.159534    -1.161676   0.091200  -0.092389   \n",
      "16         -0.594288  -1.090454   1.180894     0.855549   0.095186  -0.095534   \n",
      "17          0.915207   0.225213  -2.528612    -1.128606   0.094840  -0.096857   \n",
      "18          0.718316  -1.555021   0.102313     2.145251   0.095192  -0.088074   \n",
      "19         -0.823994   0.115423  -0.015205     2.112181   0.098767  -0.098050   \n",
      "20         -0.463028  -0.667626  -0.672936    -0.764845   0.093275  -0.094860   \n",
      "21          0.324535   2.183289   0.654832    -0.401083   0.092001  -0.091018   \n",
      "22         -0.758363  -0.194893  -0.251471    -0.434152   0.090698  -0.094350   \n",
      "23         -1.381850   0.104535   0.309661     0.359510   0.099266  -0.091222   \n",
      "24         -1.381850   0.104535   0.309661    -0.401083   0.092001  -0.091018   \n",
      "25         -0.233322   1.686057   0.558233    -0.401083   0.092001  -0.091018   \n",
      "26         -0.298952   0.146273   0.454867     0.227233   0.091257  -0.091051   \n",
      "27         -0.856809  -0.340977  -1.297443    -0.897122   0.092732  -0.091462   \n",
      "28          0.652686  -0.636776  -0.289619    -1.260883   0.090671  -0.091483   \n",
      "29         -0.823994   0.115423  -0.015205     0.491787   0.094505  -0.092994   \n",
      "...              ...        ...        ...          ...        ...        ...   \n",
      "10914      -1.217775   0.284191  -1.294981     0.690203   0.090791  -0.093447   \n",
      "10915      -0.036431  -0.427176   0.393954     0.028818   0.092021  -0.089278   \n",
      "10916      -0.561473   0.106349  -1.600774    -1.029399   0.094404  -0.093477   \n",
      "10917      -1.381850   0.104535   0.309661     0.425649   0.096667  -0.092944   \n",
      "10918      -0.856809  -0.340977  -1.297443    -1.492368 -10.801685  10.801702   \n",
      "10919      -1.250590   2.558027   1.171665     1.715350   0.099863  -0.087636   \n",
      "10920      -0.823994   0.115423  -0.015205     0.028818   0.092021  -0.089278   \n",
      "10921      -0.200507   0.931137   0.166917     1.880696   0.096945  -0.094441   \n",
      "10922      -1.184960  -0.500672   0.159534    -0.566429   0.089427  -0.089983   \n",
      "10923      -0.725548  -0.399956  -2.480005     0.359510   0.099266  -0.091222   \n",
      "10924      -0.791179   0.189826  -0.889514     0.227233   0.091257  -0.091051   \n",
      "10925       1.768399  -2.255500   1.091679     1.814558   0.085926  -0.090193   \n",
      "10926       2.030920   0.048279   0.200757     2.509012   0.098189  -0.094303   \n",
      "10927      -0.594288  -1.090454   1.180894     0.789411   0.088454  -0.090099   \n",
      "10928      -1.020884  -0.478896   1.225194     0.756342   0.088031  -0.092523   \n",
      "10929      -1.119330  -0.947999  -0.535114    -1.260883   0.090671  -0.091483   \n",
      "10930       0.029199  -0.174024   1.203659    -0.864052   0.093087  -0.090019   \n",
      "10931       0.324535   2.183289   0.654832     2.641289   0.090327  -0.092558   \n",
      "10932      -1.184960  -0.500672   0.159534    -0.731775   0.092119  -0.093357   \n",
      "10933      -0.791179   0.189826  -0.889514    -0.731775   0.092119  -0.093357   \n",
      "10934      -0.167692   1.439256   2.049665     0.657134   0.097632  -0.090291   \n",
      "10935      -0.823994   0.115423  -0.015205    -0.797914   0.093051  -0.092800   \n",
      "10936      -0.561473   0.106349  -1.600774     0.855549   0.095186  -0.095534   \n",
      "10937      -0.594288  -1.090454   1.180894    -0.731775   0.092119  -0.093357   \n",
      "10938       0.029199  -0.174024   1.203659     1.814558   0.085926  -0.090193   \n",
      "10939       1.768399  -2.255500   1.091679    -0.566429   0.089427  -0.089983   \n",
      "10940      -0.758363  -0.194893  -0.251471     0.260303   0.087164  -0.094615   \n",
      "10941       1.308988  -1.128563   0.114618     0.227233   0.091257  -0.091051   \n",
      "10942      -0.758363  -0.194893  -0.251471     0.557926   0.092525  -0.094309   \n",
      "10943      -1.184960  -0.500672   0.159534    -1.095537   0.089855  -0.094025   \n",
      "\n",
      "       plan_duration  \n",
      "0          -0.648889  \n",
      "1           0.013476  \n",
      "2          -0.648889  \n",
      "3          -0.648889  \n",
      "4           0.013476  \n",
      "5           0.013476  \n",
      "6          -0.648889  \n",
      "7           0.013476  \n",
      "8           0.013476  \n",
      "9           0.013476  \n",
      "10          0.013476  \n",
      "11          0.013476  \n",
      "12         -0.648889  \n",
      "13          0.013476  \n",
      "14          0.013476  \n",
      "15         -0.648889  \n",
      "16          0.013476  \n",
      "17          0.013476  \n",
      "18          0.013476  \n",
      "19          0.013476  \n",
      "20          0.013476  \n",
      "21          0.013476  \n",
      "22          0.013476  \n",
      "23          0.013476  \n",
      "24          0.013476  \n",
      "25          0.013476  \n",
      "26          0.013476  \n",
      "27          0.013476  \n",
      "28          7.409888  \n",
      "29          7.409888  \n",
      "...              ...  \n",
      "10914       0.013476  \n",
      "10915      -0.648889  \n",
      "10916       0.013476  \n",
      "10917       0.013476  \n",
      "10918       0.013476  \n",
      "10919      -0.648889  \n",
      "10920       0.013476  \n",
      "10921       0.013476  \n",
      "10922       0.013476  \n",
      "10923       0.013476  \n",
      "10924       0.013476  \n",
      "10925       0.013476  \n",
      "10926       0.013476  \n",
      "10927       0.013476  \n",
      "10928       0.013476  \n",
      "10929       0.013476  \n",
      "10930       0.013476  \n",
      "10931       0.013476  \n",
      "10932       0.013476  \n",
      "10933       0.013476  \n",
      "10934       0.013476  \n",
      "10935       0.013476  \n",
      "10936       0.013476  \n",
      "10937       0.013476  \n",
      "10938       0.013476  \n",
      "10939       0.013476  \n",
      "10940       0.013476  \n",
      "10941       0.013476  \n",
      "10942       0.013476  \n",
      "10943       0.013476  \n",
      "\n",
      "[10944 rows x 7 columns])\n"
     ]
    }
   ],
   "source": [
    "rmse_ratio_train = []\n",
    "rmse_ratio_test = []\n",
    "error_ratio_train = []\n",
    "error_ratio_test = []\n",
    "row_name = []\n",
    "# shuffle and generate index for training/test\n",
    "np.random.seed(seed=13579)\n",
    "#print(int(len(df) * .8))\n",
    "#train_idx = np.random.choice(range(len(df)), int(len(df) * .8), replace=False)\n",
    "train_idx = np.random.choice(range(len(df)), 159880, replace=False)\n",
    "test_idx = list(set(range(len(df))) - set(list(train_idx)))\n",
    "#print('test_idx', test_idx)\n",
    "\n",
    "# generate training/test\n",
    "bdata_train = df.loc[train_idx]\n",
    "bdata_test = df.loc[test_idx]\n",
    "bdata_train.reset_index(drop=True, inplace=True)\n",
    "bdata_test.reset_index(drop=True, inplace=True)\n",
    "\n",
    "# remove unnecessary columns\n",
    "train_feature = bdata_train.drop(['duration','bike_id'], axis=1)\n",
    "test_feature = bdata_test.drop(['duration', 'bike_id'], axis=1)\n",
    "train_target = bdata_train['duration']\n",
    "test_target = bdata_test['duration']\n",
    "\n",
    "train_feature = standardize(train_feature)\n",
    "test_feature = standardize(test_feature)\n",
    "print('test_featurestndard', test_feature)\n"
   ]
  },
  {
   "cell_type": "code",
   "execution_count": 29,
   "metadata": {},
   "outputs": [],
   "source": [
    "def compute_rmse(predictions, yvalues):\n",
    "    # compute_rmse\n",
    "    assert len(predictions) == len(yvalues)\n",
    "    rmse = np.sqrt(np.sum(np.power(np.subtract(predictions, yvalues),2))/len(yvalues))\n",
    "    return rmse\n",
    "\n",
    "def getaccu_lasso(train_feature, train_target):\n",
    "    # get the validation score for the lasso model\n",
    "    kf = KFold(10,random_state=2017)\n",
    "    clf_dict = {}\n",
    "    valid_accu = []\n",
    "    for train_index, test_index in kf.split(train_feature):\n",
    "        X_train, y_train = train_feature.loc[train_index], train_target.loc[train_index].values\n",
    "        X_test, y_test = train_feature.loc[test_index], train_target.loc[test_index].values\n",
    "        clf = Lasso()\n",
    "        clf.fit(X_train, y_train)\n",
    "        valid_rmse = compute_rmse(clf.predict(X_test),y_test) \n",
    "        valid_accu.append(valid_rmse)\n",
    "        clf_dict[valid_rmse] = clf\n",
    "    return valid_accu, clf_dict\n",
    "\n",
    "def caculateratio(clf, feature, target):\n",
    "    # caculate the error precetange of the deviation of the predicted value to the actual valus\n",
    "    predict_y = clf.predict(feature)\n",
    "    compare_predict = pd.concat([target, pd.DataFrame(predict_y)], axis=1)\n",
    "    compare_predict.columns = ['true', 'predict']\n",
    "    compare_predict['error_precent'] = (compare_predict.predict - compare_predict.true) / compare_predict.true\n",
    "    compare_predict['abs_precent'] = np.abs(compare_predict['error_precent'])\n",
    "    \n",
    "    return compare_predict\n",
    "\n",
    "\n"
   ]
  },
  {
   "cell_type": "markdown",
   "metadata": {},
   "source": [
    "Optimization - with trips count\n",
    "--"
   ]
  },
  {
   "cell_type": "code",
   "execution_count": null,
   "metadata": {},
   "outputs": [],
   "source": [
    "from sklearn.model_selection import GridSearchCV\n",
    "\n",
    "model = Lasso()\n",
    "alpha_list = list(range(1,50))\n",
    "parameters = {'alpha':alpha_list,'fit_intercept':[True,False], 'normalize':[True,False], 'copy_X':[True, False]}\n",
    "grid = GridSearchCV(model, parameters, cv=10)\n",
    "grid.fit(train_feature, train_target)\n",
    "print(\"r2 / variance : \", grid.best_score_)\n",
    "print(compute_rmse(grid.predict(test_feature),test_target))\n",
    "grid.best_params_\n"
   ]
  },
  {
   "cell_type": "markdown",
   "metadata": {},
   "source": [
    "So the best parameters using all features are: {'alpha': 1, 'copy_X': True, 'fit_intercept': True, 'normalize': False}"
   ]
  },
  {
   "cell_type": "code",
   "execution_count": null,
   "metadata": {},
   "outputs": [],
   "source": [
    "#{'alpha': 1, 'copy_X': True, 'fit_intercept': True, 'normalize': False}\n",
    "model = Lasso(alpha=1, copy_X=True, fit_intercept=True, normalize=False)\n",
    "model.fit(train_feature, train_target)"
   ]
  },
  {
   "cell_type": "code",
   "execution_count": null,
   "metadata": {},
   "outputs": [],
   "source": [
    "model.coef_[1:]"
   ]
  },
  {
   "cell_type": "code",
   "execution_count": null,
   "metadata": {},
   "outputs": [],
   "source": [
    "rmse_opti_oaf_train = compute_rmse(model.predict(train_feature),train_target)/np.mean(train_target)\n",
    "rmse_opti_oaf_test =compute_rmse(model.predict(test_feature),test_target)/np.mean(test_target)\n",
    "row_name.append('original_allfeatures')\n",
    "rmse_ratio_train.append(rmse_opti_oaf_train)\n",
    "rmse_ratio_test.append(rmse_opti_oaf_test)"
   ]
  },
  {
   "cell_type": "code",
   "execution_count": null,
   "metadata": {},
   "outputs": [],
   "source": [
    "compare_predict_train_opti_oaf = caculateratio(model, train_feature, train_target)\n",
    "error_ratio_train.append(compare_predict_train_opti_oaf.abs_precent.median())\n",
    "compare_predict_test_opti_oaf = caculateratio(model, test_feature, test_target)\n",
    "error_ratio_test.append(compare_predict_test_opti_oaf.abs_precent.median())"
   ]
  },
  {
   "cell_type": "code",
   "execution_count": null,
   "metadata": {},
   "outputs": [],
   "source": [
    "fig, ax = plt.subplots(figsize = [16,8], facecolor = [0.9,0.9,0.9])\n",
    "x_pos = np.arange(len(train_feature.columns)-1)\n",
    " \n",
    "plt.bar(x_pos, model.coef_[1:])\n",
    "plt.xticks(x_pos, train_feature.columns[1:], rotation='vertical', fontsize='14')\n",
    "plt.ylabel('Coefficient',fontsize='14')\n",
    "ax.spines['right'].set_color('none')\n",
    "ax.spines['top'].set_color('none')\n",
    "plt.show()"
   ]
  },
  {
   "cell_type": "code",
   "execution_count": 45,
   "metadata": {},
   "outputs": [
    {
     "data": {
      "image/png": "[encoded data removed]",
      "text/plain": [
       "<Figure size 720x720 with 1 Axes>"
      ]
     },
     "metadata": {},
     "output_type": "display_data"
    }
   ],
   "source": [
    "fig, ax = plt.subplots(figsize = [10,10], facecolor = [0.9,0.9,0.9])\n",
    "\n",
    "x_axis = compare_predict_train_opti_oaf.true\n",
    "y_axis = compare_predict_train_opti_oaf.predict\n",
    "x_axis2 = range(20000)\n",
    "y_axis2 = range(20000)\n",
    "\n",
    "plt.scatter(x_axis, y_axis)\n",
    "plt.plot(x_axis2, y_axis2, 'r')\n",
    "plt.xlabel('True')\n",
    "plt.ylabel('Predict')\n",
    "plt.title('Train dataset')\n",
    "ax.spines['right'].set_color('none')\n",
    "ax.spines['top'].set_color('none')\n",
    "plt.show()"
   ]
  },
  {
   "cell_type": "code",
   "execution_count": 46,
   "metadata": {},
   "outputs": [
    {
     "data": {
      "image/png": "[encoded data removed]",
      "text/plain": [
       "<Figure size 720x720 with 1 Axes>"
      ]
     },
     "metadata": {},
     "output_type": "display_data"
    }
   ],
   "source": [
    "fig, ax = plt.subplots(figsize = [10,10], facecolor = [0.9,0.9,0.9])\n",
    "\n",
    "x_axis = compare_predict_test_opti_oaf.true\n",
    "y_axis = compare_predict_test_opti_oaf.predict\n",
    "x_axis2 = range(20000)\n",
    "y_axis2 = range(20000)\n",
    "\n",
    "plt.scatter(x_axis, y_axis)\n",
    "plt.plot(x_axis2, y_axis2, 'r')\n",
    "#plt.xticks(x_pos, train_feature.columns, rotation='vertical')\n",
    "#plt.hist(interval_log, bins=30, alpha=0.75)\n",
    "plt.xlabel('True')\n",
    "plt.ylabel('Predict')\n",
    "plt.title('Train dataset')\n",
    "#plt.axis([0, 10000, 0, 1000000])\n",
    "#ax.set_xlim([0, 20])\n",
    "ax.spines['right'].set_color('none')\n",
    "ax.spines['top'].set_color('none')\n",
    "plt.show()"
   ]
  },
  {
   "cell_type": "markdown",
   "metadata": {},
   "source": [
    "Optimization - without trips count"
   ]
  }
 ],
 "metadata": {
  "kernelspec": {
   "display_name": "Python 2",
   "language": "python",
   "name": "python2"
  }
 },
 "nbformat": 4,
 "nbformat_minor": 2
}
